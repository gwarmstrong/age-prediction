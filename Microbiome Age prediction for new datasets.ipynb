{
 "cells": [
  {
   "cell_type": "code",
   "execution_count": 948,
   "metadata": {},
   "outputs": [],
   "source": [
    "import numpy as np\n",
    "import pandas as pd\n",
    "import biom\n",
    "import qiime2 as q2\n",
    "import q2_sample_classifier\n",
    "import pickle\n",
    "from qiime2 import Artifact\n",
    "from sklearn.pipeline import Pipeline\n",
    "from sklearn.model_selection import StratifiedKFold\n",
    "from sklearn.model_selection import GroupKFold\n",
    "from sklearn.metrics import mean_squared_error\n",
    "from sklearn.metrics import mean_absolute_error\n",
    "from sklearn.metrics import r2_score\n",
    "from sklearn.externals import joblib\n",
    "from scipy.sparse import *\n",
    "from sklearn.ensemble import RandomForestRegressor\n",
    "from sklearn.ensemble import RandomForestClassifier"
   ]
  },
  {
   "cell_type": "code",
   "execution_count": null,
   "metadata": {},
   "outputs": [],
   "source": []
  },
  {
   "cell_type": "markdown",
   "metadata": {},
   "source": [
    "## Input train data"
   ]
  },
  {
   "cell_type": "code",
   "execution_count": 497,
   "metadata": {},
   "outputs": [],
   "source": [
    "train_datafile='/Users/huangshi/MyProjects/CMI-IBM/age-prediction/Input/gut_data/gut_4434.biom'\n",
    "train_sample_metadata='/Users/huangshi/MyProjects/CMI-IBM/age-prediction/Input/gut_data/gut_4434_map.txt'\n",
    "train_feature_metadata=''\n",
    "train_target_field='age'\n",
    "train_prefix='AGP'"
   ]
  },
  {
   "cell_type": "markdown",
   "metadata": {},
   "source": [
    "## Input test data"
   ]
  },
  {
   "cell_type": "code",
   "execution_count": 36,
   "metadata": {},
   "outputs": [],
   "source": [
    "test_datafile='/Users/huangshi/MyProjects/CMI-IBM/Datasets/SAGE/data/feature-table.biom' #gut_4575_rare_sp.csv\n",
    "test_sample_metadata = '/Users/huangshi/MyProjects/CMI-IBM/Datasets/SAGE/sample-metadata.tsv' #'10283_20191126-092828.txt'\n",
    "test_feature_metadata='' #'skin_taxonomy.txt'\n",
    "test_prefix='SAGE'\n",
    "test_target_field = 'agevisit' #"
   ]
  },
  {
   "cell_type": "code",
   "execution_count": 8,
   "metadata": {},
   "outputs": [],
   "source": [
    "train_table=biom.load_table(train_datafile)\n",
    "train_metadata=pd.read_csv(train_sample_metadata, sep='\\t')"
   ]
  },
  {
   "cell_type": "code",
   "execution_count": 37,
   "metadata": {},
   "outputs": [],
   "source": [
    "test_table=biom.load_table(test_datafile)\n",
    "test_metadata=pd.read_csv(test_sample_metadata, sep='\\t')"
   ]
  },
  {
   "cell_type": "code",
   "execution_count": 13,
   "metadata": {},
   "outputs": [],
   "source": [
    "train_df=train_table.to_dataframe(dense=False)"
   ]
  },
  {
   "cell_type": "code",
   "execution_count": 38,
   "metadata": {},
   "outputs": [],
   "source": [
    "test_df=test_table.to_dataframe(dense=False)"
   ]
  },
  {
   "cell_type": "code",
   "execution_count": 167,
   "metadata": {},
   "outputs": [
    {
     "data": {
      "text/plain": [
       "(4434, 65694)"
      ]
     },
     "execution_count": 167,
     "metadata": {},
     "output_type": "execute_result"
    }
   ],
   "source": [
    "train_X=train_df.T\n",
    "train_X.shape"
   ]
  },
  {
   "cell_type": "code",
   "execution_count": 305,
   "metadata": {},
   "outputs": [
    {
     "data": {
      "text/plain": [
       "(184, 52955)"
      ]
     },
     "execution_count": 305,
     "metadata": {},
     "output_type": "execute_result"
    }
   ],
   "source": [
    "test_X=test_df.T\n",
    "test_X.shape"
   ]
  },
  {
   "cell_type": "code",
   "execution_count": 169,
   "metadata": {},
   "outputs": [],
   "source": [
    "train_y=train_metadata[train_target_field]"
   ]
  },
  {
   "cell_type": "code",
   "execution_count": 170,
   "metadata": {},
   "outputs": [],
   "source": [
    "test_y=test_metadata[test_target_field]"
   ]
  },
  {
   "cell_type": "code",
   "execution_count": 171,
   "metadata": {},
   "outputs": [
    {
     "name": "stderr",
     "output_type": "stream",
     "text": [
      "/Users/huangshi/anaconda3/envs/qiime2-2019.7/lib/python3.6/site-packages/sklearn/ensemble/forest.py:245: FutureWarning: The default value of n_estimators will change from 10 in version 0.20 to 100 in 0.22.\n",
      "  \"10 in version 0.20 to 100 in 0.22.\", FutureWarning)\n"
     ]
    },
    {
     "data": {
      "text/plain": [
       "RandomForestRegressor(bootstrap=True, criterion='mse', max_depth=2,\n",
       "                      max_features='auto', max_leaf_nodes=None,\n",
       "                      min_impurity_decrease=0.0, min_impurity_split=None,\n",
       "                      min_samples_leaf=1, min_samples_split=2,\n",
       "                      min_weight_fraction_leaf=0.0, n_estimators=10,\n",
       "                      n_jobs=None, oob_score=False, random_state=0, verbose=0,\n",
       "                      warm_start=False)"
      ]
     },
     "execution_count": 171,
     "metadata": {},
     "output_type": "execute_result"
    }
   ],
   "source": [
    "egr = RandomForestRegressor(max_depth=2, random_state=0, n_estimators=500, n_jobs=4)\n",
    "#egr.fit(train_X, train_y)"
   ]
  },
  {
   "cell_type": "code",
   "execution_count": 943,
   "metadata": {},
   "outputs": [
    {
     "data": {
      "text/plain": [
       "Pipeline(memory=None,\n",
       "         steps=[('egr',\n",
       "                 RandomForestRegressor(bootstrap=True, criterion='mse',\n",
       "                                       max_depth=2, max_features='auto',\n",
       "                                       max_leaf_nodes=None,\n",
       "                                       min_impurity_decrease=0.0,\n",
       "                                       min_impurity_split=None,\n",
       "                                       min_samples_leaf=1, min_samples_split=2,\n",
       "                                       min_weight_fraction_leaf=0.0,\n",
       "                                       n_estimators=500, n_jobs=4,\n",
       "                                       oob_score=False, random_state=0,\n",
       "                                       verbose=0, warm_start=False))],\n",
       "         verbose=False)"
      ]
     },
     "execution_count": 943,
     "metadata": {},
     "output_type": "execute_result"
    }
   ],
   "source": [
    "pipe = Pipeline([('egr', RandomForestRegressor(max_depth=2, random_state=0, n_estimators=500, n_jobs=4))])\n",
    "pipe.fit(train_X, train_y)"
   ]
  },
  {
   "cell_type": "code",
   "execution_count": 944,
   "metadata": {},
   "outputs": [],
   "source": [
    "pred_y=pipe.predict(train_X)"
   ]
  },
  {
   "cell_type": "code",
   "execution_count": 951,
   "metadata": {},
   "outputs": [
    {
     "name": "stdout",
     "output_type": "stream",
     "text": [
      "R-squared:  0.019028518323003674\n",
      "MSE:  223.78499305980282\n",
      "RMSE:  14.959444944910317\n",
      "MAE:  12.650015515968576\n"
     ]
    }
   ],
   "source": [
    "R_squared=r2_score(train_y, pred_y)\n",
    "mse=mean_squared_error(train_y, pred_y)\n",
    "rmse=np.sqrt(mse)\n",
    "mae=mean_absolute_error(train_y, pred_y)\n",
    "print('R-squared: ', R_squared)\n",
    "print('MSE: ', mse)\n",
    "print('RMSE: ', rmse)\n",
    "print('MAE: ', mae)"
   ]
  },
  {
   "cell_type": "code",
   "execution_count": 952,
   "metadata": {},
   "outputs": [],
   "source": [
    "# save the model to disk\n",
    "filename = 'gut_sklearn_pipeline.pkl'\n",
    "pickle.dump(pipe, open(filename, 'wb'))"
   ]
  },
  {
   "cell_type": "markdown",
   "metadata": {},
   "source": [
    "## Load the pipeline object"
   ]
  },
  {
   "cell_type": "code",
   "execution_count": 953,
   "metadata": {},
   "outputs": [
    {
     "name": "stdout",
     "output_type": "stream",
     "text": [
      "-0.8724027808581561\n"
     ]
    }
   ],
   "source": [
    "# load the model from disk\n",
    "loaded_pipe = pickle.load(open(filename, 'rb'))\n",
    "result = loaded_pipe.score(test_X_, test_y)\n",
    "print(result)"
   ]
  },
  {
   "cell_type": "code",
   "execution_count": 867,
   "metadata": {},
   "outputs": [
    {
     "data": {
      "text/plain": [
       "sklearn.pipeline.Pipeline"
      ]
     },
     "execution_count": 867,
     "metadata": {},
     "output_type": "execute_result"
    }
   ],
   "source": [
    "type(loaded_pipe)"
   ]
  },
  {
   "cell_type": "code",
   "execution_count": 954,
   "metadata": {
    "scrolled": true
   },
   "outputs": [
    {
     "data": {
      "text/plain": [
       "array([47.56843373, 47.40438979, 46.94094645, 47.82804331, 47.36287618,\n",
       "       47.71140506, 47.38642674, 47.62473285, 47.66568304, 47.52114343,\n",
       "       47.4154415 , 47.55576699, 47.37603269, 47.60593572, 46.91646905,\n",
       "       47.49882432, 47.53479183, 47.17908984, 47.54739777, 47.46629715,\n",
       "       47.10204694, 47.09372961, 47.03575925, 47.1678897 , 47.39045407,\n",
       "       47.29945922, 47.68961226, 47.44147476, 47.03926096, 47.81370401,\n",
       "       47.52359066, 47.16572771, 47.93289059, 47.51071429, 47.44345221,\n",
       "       47.74952509, 47.21831519, 47.72383569, 47.53069438, 47.13893806,\n",
       "       47.64629492, 47.71303912, 47.65330492, 47.53615209, 47.50258904,\n",
       "       47.6543161 , 47.4805571 , 47.30778159, 47.62184946, 47.52278063,\n",
       "       47.61055994, 47.48696219, 46.88701775, 47.10776698, 47.10691762,\n",
       "       47.70463667, 47.59378653, 49.98482952, 47.7239362 , 47.4504889 ,\n",
       "       47.50650425, 47.49489759, 47.39325571, 47.24204347, 47.33689337,\n",
       "       47.58741216, 46.90318047, 47.93536992, 47.42320471, 47.3622839 ,\n",
       "       49.96454849, 47.49110148, 47.47074756, 47.56115531, 47.38071359,\n",
       "       47.509385  , 47.38980381, 47.56965184, 47.5583181 , 47.54388692,\n",
       "       47.17688924, 47.09972579, 47.38324739, 47.56280013, 47.29489889,\n",
       "       47.25170117, 46.93454803, 50.13364884, 47.41906957, 47.280952  ,\n",
       "       47.21176984, 47.81105448, 47.23970226, 47.79436126, 47.2883473 ,\n",
       "       47.65234003, 47.36402421, 47.54629613, 47.27638075, 47.16702276,\n",
       "       47.46547213, 47.09600914, 47.65343181, 47.66318707, 47.23978938,\n",
       "       47.47709746, 47.49241202, 46.87552636, 47.43809884, 47.28566824,\n",
       "       47.54951361, 47.69881038, 47.02372191, 47.42754937, 47.23192136,\n",
       "       47.92129603, 47.46632219, 47.47662887, 47.60219303, 47.49705434,\n",
       "       47.50925624, 47.19031231, 47.42959484, 47.65308146, 47.47994574,\n",
       "       47.44526016, 47.44026135, 47.56650483, 47.71650876, 47.54918694,\n",
       "       47.47213821, 47.52676707, 47.39635252, 47.39857473, 47.27615839,\n",
       "       47.7758414 , 47.43470237, 47.28809461, 47.08003264, 48.26319327,\n",
       "       47.69082754, 47.52214381, 48.54376786, 49.62492932, 48.33121084,\n",
       "       50.34656272, 46.88642777, 47.80269192, 48.54430841, 47.32187606,\n",
       "       48.16731466, 46.70177494, 47.14741379, 47.90870808, 47.1422844 ,\n",
       "       47.49866492, 49.48407782, 47.62218995, 46.7676356 , 50.02997252,\n",
       "       47.73185202, 47.94695031, 46.97429074, 47.17266347, 47.78750345,\n",
       "       47.78069182, 47.8773648 , 47.9265838 , 46.96467257, 50.18771257,\n",
       "       47.6214483 , 48.06949238, 50.41176181, 47.06566896, 47.3414101 ,\n",
       "       47.3597345 , 47.9820442 , 46.84538124, 47.0139224 , 47.40388658,\n",
       "       47.30008056, 48.37457771, 48.33576577, 47.27491135])"
      ]
     },
     "execution_count": 954,
     "metadata": {},
     "output_type": "execute_result"
    }
   ],
   "source": [
    "loaded_pipe.predict(test_X_)"
   ]
  },
  {
   "cell_type": "code",
   "execution_count": 811,
   "metadata": {},
   "outputs": [],
   "source": [
    "#y_pred = egr.predict(test_X)"
   ]
  },
  {
   "cell_type": "markdown",
   "metadata": {},
   "source": [
    "### Adding preprocessing steps for the test table"
   ]
  },
  {
   "cell_type": "markdown",
   "metadata": {},
   "source": [
    "### Q: the test data contains 150-nt sequence features while the train data contains 100-nt sequence features.\n",
    "### Solution: chop the 150-nt sequences into 100 nt ones"
   ]
  },
  {
   "cell_type": "code",
   "execution_count": 532,
   "metadata": {},
   "outputs": [],
   "source": [
    "def chop_seq_feature_to_nt(x, start=0, end=100):\n",
    "    '''\n",
    "    Parameters\n",
    "    -------\n",
    "        x: pd.DataFrame \n",
    "        A table that contains sequence-like features in the columns\n",
    "    Return\n",
    "    -------\n",
    "        x_dedup: pd.DataFrame\n",
    "        A table that contain sequence-like features with desired length\n",
    "    Examples\n",
    "    -------\n",
    "    x=pd.DataFrame({'atcttc':[1, 3, 1, 3], 'ttcttc':[1, 3, 3, 1], \n",
    "                    'aatttc':[2, 5, 3, 1], 'ttcttc':[2, 5, 3, 1],\n",
    "                    'aattcc':[2, 5, 3, 1], 'aatatc':[2, 0, 0, 1]})\n",
    "\n",
    "    '''\n",
    "    ids=x.columns.tolist()\n",
    "    new_ids=[i[start:end] for i in ids]\n",
    "    x.columns=new_ids\n",
    "    def checkIfDuplicates(listOfElems):\n",
    "        ''' Check if given list contains any duplicates '''\n",
    "        if len(listOfElems) == len(set(listOfElems)):\n",
    "            return False\n",
    "        else:\n",
    "            return True\n",
    "    if(checkIfDuplicates(new_ids)):\n",
    "        x_dedup=x.sum(axis=1, level=0)\n",
    "    else:\n",
    "        x_dedup=x\n",
    "    return x_dedup"
   ]
  },
  {
   "cell_type": "code",
   "execution_count": 533,
   "metadata": {},
   "outputs": [
    {
     "data": {
      "text/html": [
       "<div>\n",
       "<style scoped>\n",
       "    .dataframe tbody tr th:only-of-type {\n",
       "        vertical-align: middle;\n",
       "    }\n",
       "\n",
       "    .dataframe tbody tr th {\n",
       "        vertical-align: top;\n",
       "    }\n",
       "\n",
       "    .dataframe thead th {\n",
       "        text-align: right;\n",
       "    }\n",
       "</style>\n",
       "<table border=\"1\" class=\"dataframe\">\n",
       "  <thead>\n",
       "    <tr style=\"text-align: right;\">\n",
       "      <th></th>\n",
       "      <th>atc</th>\n",
       "      <th>ttc</th>\n",
       "      <th>aat</th>\n",
       "    </tr>\n",
       "  </thead>\n",
       "  <tbody>\n",
       "    <tr>\n",
       "      <th>0</th>\n",
       "      <td>2</td>\n",
       "      <td>1</td>\n",
       "      <td>6</td>\n",
       "    </tr>\n",
       "    <tr>\n",
       "      <th>1</th>\n",
       "      <td>5</td>\n",
       "      <td>3</td>\n",
       "      <td>10</td>\n",
       "    </tr>\n",
       "    <tr>\n",
       "      <th>2</th>\n",
       "      <td>3</td>\n",
       "      <td>3</td>\n",
       "      <td>6</td>\n",
       "    </tr>\n",
       "    <tr>\n",
       "      <th>3</th>\n",
       "      <td>1</td>\n",
       "      <td>1</td>\n",
       "      <td>3</td>\n",
       "    </tr>\n",
       "  </tbody>\n",
       "</table>\n",
       "</div>"
      ],
      "text/plain": [
       "   atc  ttc  aat\n",
       "0    2    1    6\n",
       "1    5    3   10\n",
       "2    3    3    6\n",
       "3    1    1    3"
      ]
     },
     "execution_count": 533,
     "metadata": {},
     "output_type": "execute_result"
    }
   ],
   "source": [
    "chop_seq_feature_to_nt(x, start=0, end=3)"
   ]
  },
  {
   "cell_type": "code",
   "execution_count": 534,
   "metadata": {},
   "outputs": [
    {
     "data": {
      "text/plain": [
       "(184, 39634)"
      ]
     },
     "execution_count": 534,
     "metadata": {},
     "output_type": "execute_result"
    }
   ],
   "source": [
    "test_X=chop_seq_feature_to_nt(test_X, start=0, end=100)\n",
    "test_X.shape"
   ]
  },
  {
   "cell_type": "code",
   "execution_count": 188,
   "metadata": {},
   "outputs": [],
   "source": [
    "def union_feature_table(train_X, test_X):\n",
    "    '''\n",
    "    Parameters\n",
    "    ----------\n",
    "    train data : pd.DataFrame\n",
    "        train data table\n",
    "    test data : pd.DataFrame\n",
    "        test data table.\n",
    "    Returns\n",
    "    -------\n",
    "    pd.DataFrame\n",
    "        A padded test data table\n",
    "    Examples\n",
    "    -------\n",
    "    a=pd.DataFrame({'atc':[1, 3, 1, 3], 'ttc':[1, 3, 3, 1], 'aat':[2, 5, 3, 1], 'ttc':[2, 5, 3, 1]})\n",
    "    b=pd.DataFrame({'atc':[1, 3, 1, 0], 'tta':[0, 3, 1, 0], 'aaa':[2, 1, 3, 1]})\n",
    "    feature_padding(a, b)\n",
    "\n",
    "    '''\n",
    "    train_feature_ids=train_X.columns.values.tolist()\n",
    "    test_feature_ids=test_X.columns.values.tolist()\n",
    "    train_X_uniq_f=list(set(train_feature_ids)-set(test_feature_ids))\n",
    "    test_X_uniq_f=list(set(test_feature_ids)-set(train_feature_ids))\n",
    "    test_zero_matrix = np.zeros(shape=(test_X.shape[0], len(train_X_uniq_f)))\n",
    "    train_zero_matrix = np.zeros(shape=(train_X.shape[0], len(test_X_uniq_f)))\n",
    "    test_padding_matrix=pd.DataFrame(test_zero_matrix, columns = train_X_uniq_f)\n",
    "    train_padding_matrix=pd.DataFrame(train_zero_matrix, columns = test_X_uniq_f)\n",
    "\n",
    "    new_test_X=pd.concat([test_X, test_padding_matrix], axis=1).sort_index(axis=1)\n",
    "    new_train_X=pd.concat([train_X, train_padding_matrix], axis=1).sort_index(axis=1)\n",
    "    return new_test_X, new_train_X\n"
   ]
  },
  {
   "cell_type": "code",
   "execution_count": 189,
   "metadata": {},
   "outputs": [
    {
     "data": {
      "text/html": [
       "<div>\n",
       "<style scoped>\n",
       "    .dataframe tbody tr th:only-of-type {\n",
       "        vertical-align: middle;\n",
       "    }\n",
       "\n",
       "    .dataframe tbody tr th {\n",
       "        vertical-align: top;\n",
       "    }\n",
       "\n",
       "    .dataframe thead th {\n",
       "        text-align: right;\n",
       "    }\n",
       "</style>\n",
       "<table border=\"1\" class=\"dataframe\">\n",
       "  <thead>\n",
       "    <tr style=\"text-align: right;\">\n",
       "      <th></th>\n",
       "      <th>A</th>\n",
       "      <th>B</th>\n",
       "      <th>C</th>\n",
       "      <th>D</th>\n",
       "      <th>E</th>\n",
       "      <th>R</th>\n",
       "    </tr>\n",
       "  </thead>\n",
       "  <tbody>\n",
       "    <tr>\n",
       "      <th>0</th>\n",
       "      <td>1</td>\n",
       "      <td>0.0</td>\n",
       "      <td>0.0</td>\n",
       "      <td>0</td>\n",
       "      <td>2</td>\n",
       "      <td>0.0</td>\n",
       "    </tr>\n",
       "    <tr>\n",
       "      <th>1</th>\n",
       "      <td>3</td>\n",
       "      <td>0.0</td>\n",
       "      <td>0.0</td>\n",
       "      <td>3</td>\n",
       "      <td>1</td>\n",
       "      <td>0.0</td>\n",
       "    </tr>\n",
       "    <tr>\n",
       "      <th>2</th>\n",
       "      <td>1</td>\n",
       "      <td>0.0</td>\n",
       "      <td>0.0</td>\n",
       "      <td>1</td>\n",
       "      <td>3</td>\n",
       "      <td>0.0</td>\n",
       "    </tr>\n",
       "    <tr>\n",
       "      <th>3</th>\n",
       "      <td>0</td>\n",
       "      <td>0.0</td>\n",
       "      <td>0.0</td>\n",
       "      <td>0</td>\n",
       "      <td>1</td>\n",
       "      <td>0.0</td>\n",
       "    </tr>\n",
       "  </tbody>\n",
       "</table>\n",
       "</div>"
      ],
      "text/plain": [
       "   A    B    C  D  E    R\n",
       "0  1  0.0  0.0  0  2  0.0\n",
       "1  3  0.0  0.0  3  1  0.0\n",
       "2  1  0.0  0.0  1  3  0.0\n",
       "3  0  0.0  0.0  0  1  0.0"
      ]
     },
     "metadata": {},
     "output_type": "display_data"
    },
    {
     "data": {
      "text/html": [
       "<div>\n",
       "<style scoped>\n",
       "    .dataframe tbody tr th:only-of-type {\n",
       "        vertical-align: middle;\n",
       "    }\n",
       "\n",
       "    .dataframe tbody tr th {\n",
       "        vertical-align: top;\n",
       "    }\n",
       "\n",
       "    .dataframe thead th {\n",
       "        text-align: right;\n",
       "    }\n",
       "</style>\n",
       "<table border=\"1\" class=\"dataframe\">\n",
       "  <thead>\n",
       "    <tr style=\"text-align: right;\">\n",
       "      <th></th>\n",
       "      <th>A</th>\n",
       "      <th>B</th>\n",
       "      <th>C</th>\n",
       "      <th>D</th>\n",
       "      <th>E</th>\n",
       "      <th>R</th>\n",
       "    </tr>\n",
       "  </thead>\n",
       "  <tbody>\n",
       "    <tr>\n",
       "      <th>0</th>\n",
       "      <td>3</td>\n",
       "      <td>1</td>\n",
       "      <td>5</td>\n",
       "      <td>0.0</td>\n",
       "      <td>0.0</td>\n",
       "      <td>5</td>\n",
       "    </tr>\n",
       "    <tr>\n",
       "      <th>1</th>\n",
       "      <td>3</td>\n",
       "      <td>3</td>\n",
       "      <td>5</td>\n",
       "      <td>0.0</td>\n",
       "      <td>0.0</td>\n",
       "      <td>5</td>\n",
       "    </tr>\n",
       "    <tr>\n",
       "      <th>2</th>\n",
       "      <td>1</td>\n",
       "      <td>3</td>\n",
       "      <td>3</td>\n",
       "      <td>0.0</td>\n",
       "      <td>0.0</td>\n",
       "      <td>3</td>\n",
       "    </tr>\n",
       "    <tr>\n",
       "      <th>3</th>\n",
       "      <td>1</td>\n",
       "      <td>1</td>\n",
       "      <td>1</td>\n",
       "      <td>0.0</td>\n",
       "      <td>0.0</td>\n",
       "      <td>1</td>\n",
       "    </tr>\n",
       "  </tbody>\n",
       "</table>\n",
       "</div>"
      ],
      "text/plain": [
       "   A  B  C    D    E  R\n",
       "0  3  1  5  0.0  0.0  5\n",
       "1  3  3  5  0.0  0.0  5\n",
       "2  1  3  3  0.0  0.0  3\n",
       "3  1  1  1  0.0  0.0  1"
      ]
     },
     "metadata": {},
     "output_type": "display_data"
    }
   ],
   "source": [
    "a_, b_ = union_feature_table(a, b)\n",
    "display(a_, b_)"
   ]
  },
  {
   "cell_type": "code",
   "execution_count": 502,
   "metadata": {},
   "outputs": [],
   "source": [
    "def pad_feature(a, b):\n",
    "    '''\n",
    "    Parameters\n",
    "    ----------\n",
    "    a : pd.DataFrame\n",
    "        train data table\n",
    "    b : pd.DataFrame\n",
    "        test data table.\n",
    "    Returns\n",
    "    -------\n",
    "    pd.DataFrame\n",
    "        A test table with equal number of\n",
    "        feature as the train table.\n",
    "    Examples\n",
    "    -------\n",
    "    a=pd.DataFrame({'ttc':[1, 3, 1, 3], 'atc':[1, 3, 3, 1], 'aat':[2, 5, 3, 1], 'tac':[2, 5, 3, 1]})\n",
    "    b=pd.DataFrame({'atc':[1, 3, 1, 0], 'ttc':[0, 3, 1, 0], 'aaa':[2, 1, 3, 1]})\n",
    "    feature_padding(a, b)\n",
    "    \n",
    "    A\tB\tC\tR\n",
    "    0\t1\t0.0\t0.0\t0.0\n",
    "    1\t3\t0.0\t0.0\t0.0\n",
    "    2\t1\t0.0\t0.0\t0.0\n",
    "    3\t0\t0.0\t0.0\t0.0\n",
    "    \n",
    "    '''\n",
    "    print(\"The shape of train data: \", a.shape)\n",
    "    a_feature_ids=a.columns.values.tolist()\n",
    "    b_feature_ids=b.columns.values.tolist()\n",
    "    print(\"The number of features in the original test data: \", len(b_feature_ids))\n",
    "    a_uniq_f=list(set(a_feature_ids)-set(b_feature_ids))\n",
    "    ab_shared_f=set(a_feature_ids).intersection(set(b_feature_ids))\n",
    "    print(\"The number of features with all zeros in the new test data: \", len(a_uniq_f))\n",
    "    print(\"The number of shared features kept in the new test data: \", len(ab_shared_f))\n",
    "    b_padding_matrix = pd.DataFrame(0, index=b.index, columns=a_uniq_f)\n",
    "    new_b=pd.concat([b[ab_shared_f], b_padding_matrix], axis=1)\n",
    "    #print(new_b.shape)\n",
    "    new_b=new_b[a_feature_ids]\n",
    "    # only keep feature ids in the train table\n",
    "    \n",
    "    print(\"The shape of new test data: \", new_b.shape)\n",
    "    return new_b\n"
   ]
  },
  {
   "cell_type": "code",
   "execution_count": 501,
   "metadata": {},
   "outputs": [
    {
     "name": "stdout",
     "output_type": "stream",
     "text": [
      "The shape of train data:  (4, 4)\n",
      "The number of features in the original test data:  3\n",
      "The number of features with all zeros in the new test data:  2\n",
      "The number of shared features kept in the new test data:  2\n",
      "(4, 4)\n",
      "The shape of new test data:  (4, 4)\n"
     ]
    },
    {
     "data": {
      "text/html": [
       "<div>\n",
       "<style scoped>\n",
       "    .dataframe tbody tr th:only-of-type {\n",
       "        vertical-align: middle;\n",
       "    }\n",
       "\n",
       "    .dataframe tbody tr th {\n",
       "        vertical-align: top;\n",
       "    }\n",
       "\n",
       "    .dataframe thead th {\n",
       "        text-align: right;\n",
       "    }\n",
       "</style>\n",
       "<table border=\"1\" class=\"dataframe\">\n",
       "  <thead>\n",
       "    <tr style=\"text-align: right;\">\n",
       "      <th></th>\n",
       "      <th>ttc</th>\n",
       "      <th>atc</th>\n",
       "      <th>aat</th>\n",
       "      <th>tac</th>\n",
       "    </tr>\n",
       "  </thead>\n",
       "  <tbody>\n",
       "    <tr>\n",
       "      <th>0</th>\n",
       "      <td>0</td>\n",
       "      <td>1</td>\n",
       "      <td>0</td>\n",
       "      <td>0</td>\n",
       "    </tr>\n",
       "    <tr>\n",
       "      <th>1</th>\n",
       "      <td>3</td>\n",
       "      <td>3</td>\n",
       "      <td>0</td>\n",
       "      <td>0</td>\n",
       "    </tr>\n",
       "    <tr>\n",
       "      <th>2</th>\n",
       "      <td>1</td>\n",
       "      <td>1</td>\n",
       "      <td>0</td>\n",
       "      <td>0</td>\n",
       "    </tr>\n",
       "    <tr>\n",
       "      <th>3</th>\n",
       "      <td>0</td>\n",
       "      <td>0</td>\n",
       "      <td>0</td>\n",
       "      <td>0</td>\n",
       "    </tr>\n",
       "  </tbody>\n",
       "</table>\n",
       "</div>"
      ],
      "text/plain": [
       "   ttc  atc  aat  tac\n",
       "0    0    1    0    0\n",
       "1    3    3    0    0\n",
       "2    1    1    0    0\n",
       "3    0    0    0    0"
      ]
     },
     "execution_count": 501,
     "metadata": {},
     "output_type": "execute_result"
    }
   ],
   "source": [
    "a=pd.DataFrame({'ttc':[1, 3, 1, 3], 'atc':[1, 3, 3, 1], 'aat':[2, 5, 3, 1], 'tac':[2, 5, 3, 1]})\n",
    "b=pd.DataFrame({'atc':[1, 3, 1, 0], 'ttc':[0, 3, 1, 0], 'aaa':[2, 1, 3, 1]})\n",
    "b_=pad_feature(a, b)\n",
    "b_"
   ]
  },
  {
   "cell_type": "markdown",
   "metadata": {},
   "source": [
    "### age prediction on the test dataset after feature padding"
   ]
  },
  {
   "cell_type": "code",
   "execution_count": 376,
   "metadata": {},
   "outputs": [
    {
     "data": {
      "text/plain": [
       "(4434, 65694)"
      ]
     },
     "execution_count": 376,
     "metadata": {},
     "output_type": "execute_result"
    }
   ],
   "source": [
    "train_X.shape"
   ]
  },
  {
   "cell_type": "code",
   "execution_count": 377,
   "metadata": {},
   "outputs": [
    {
     "data": {
      "text/plain": [
       "(184, 52955)"
      ]
     },
     "execution_count": 377,
     "metadata": {},
     "output_type": "execute_result"
    }
   ],
   "source": [
    "test_X.shape"
   ]
  },
  {
   "cell_type": "code",
   "execution_count": 535,
   "metadata": {},
   "outputs": [
    {
     "name": "stdout",
     "output_type": "stream",
     "text": [
      "The shape of train data:  (4434, 65694)\n",
      "The number of features in the original test data:  39634\n",
      "The number of features with all zeros in the new test data:  54293\n",
      "The number of shared features kept in the new test data:  11401\n",
      "The shape of new test data:  (184, 65694)\n"
     ]
    }
   ],
   "source": [
    "test_X_=pad_feature(train_X, test_X)\n",
    "#test_X_=pd.SparseDataFrame(test_X_)"
   ]
  },
  {
   "cell_type": "code",
   "execution_count": 315,
   "metadata": {},
   "outputs": [
    {
     "data": {
      "text/plain": [
       "(184, 76443)"
      ]
     },
     "execution_count": 315,
     "metadata": {},
     "output_type": "execute_result"
    }
   ],
   "source": [
    "test_X_.shape"
   ]
  },
  {
   "cell_type": "code",
   "execution_count": 496,
   "metadata": {
    "scrolled": true
   },
   "outputs": [
    {
     "data": {
      "text/plain": [
       "array([47.04889674, 47.04889674, 47.04889674, 47.48043568, 48.16709794,\n",
       "       47.94284281, 47.04889674, 49.62464162, 47.04889674, 48.16709794,\n",
       "       47.04889674, 47.48043568, 47.04889674, 47.48043568, 46.43493596,\n",
       "       47.04889674, 47.04889674, 46.43493596, 48.16709794, 47.04889674,\n",
       "       47.04889674, 47.04889674, 48.16709794, 47.04889674, 47.04889674,\n",
       "       47.04889674, 47.48043568, 47.04889674, 46.43493596, 47.48043568,\n",
       "       47.48043568, 46.43493596, 47.48043568, 48.16709794, 48.16709794,\n",
       "       48.16709794, 48.16709794, 47.48043568, 48.16709794, 47.48043568,\n",
       "       47.48043568, 47.48043568, 47.48043568, 47.48043568, 47.48043568,\n",
       "       47.04889674, 48.16709794, 47.48043568, 47.04889674, 47.04889674,\n",
       "       47.48043568, 47.04889674, 47.04889674, 46.43493596, 49.74806727,\n",
       "       47.48043568, 47.04889674, 47.04889674, 50.12888204, 49.66748061,\n",
       "       47.04889674, 48.16709794, 47.48043568, 46.43493596, 47.48043568,\n",
       "       47.48043568, 47.04889674, 47.48043568, 47.04889674, 47.04889674,\n",
       "       47.04889674, 47.7376826 , 47.04889674, 48.59863687, 47.04889674,\n",
       "       48.16709794, 47.48043568, 47.04889674, 47.48043568, 48.16709794,\n",
       "       47.04889674, 47.04889674, 47.48043568, 47.04889674, 47.04889674,\n",
       "       46.43493596, 47.04889674, 48.16709794, 47.48043568, 46.43493596,\n",
       "       48.5722202 , 47.48043568, 47.48043568, 47.92010443, 47.48043568,\n",
       "       47.48043568, 48.16709794, 47.48043568, 47.04889674, 47.04889674,\n",
       "       47.48043568, 47.04889674, 47.04889674, 48.16709794, 47.04889674,\n",
       "       48.16709794, 48.42434486, 46.43493596, 47.48043568, 47.04889674,\n",
       "       46.8664749 , 47.04889674, 48.16709794, 48.16709794, 47.04889674,\n",
       "       47.48043568, 47.48043568, 47.04889674, 47.48043568, 47.04889674,\n",
       "       47.48043568, 47.04889674, 47.04889674, 48.59863687, 47.48043568,\n",
       "       47.48043568, 47.04889674, 47.04889674, 47.48043568, 48.16709794,\n",
       "       47.48043568, 47.48043568, 47.04889674, 47.04889674, 47.04889674,\n",
       "       47.48043568, 47.04889674, 48.16709794, 47.04889674, 47.48043568,\n",
       "       48.35164337, 51.12938488, 47.66647037, 48.16709794, 47.23493143,\n",
       "       48.16709794, 47.04889674, 48.16709794, 47.23493143, 48.16709794,\n",
       "       50.08002994, 47.55313716, 47.04889674, 47.66647037, 48.16709794,\n",
       "       50.74284281, 46.43493596, 47.48043568, 47.04889674, 48.16709794,\n",
       "       48.59863687, 53.19501984, 47.55313716, 47.48043568, 48.16709794,\n",
       "       46.8664749 , 49.03830563, 49.22434033, 46.43493596, 48.16709794,\n",
       "       49.78780288, 49.74806727, 47.32888204, 49.76655035, 48.16709794,\n",
       "       47.04889674, 49.47331844, 48.16709794, 48.42434486, 49.46984457,\n",
       "       48.16709794, 52.55595471, 48.35164337, 46.43493596])"
      ]
     },
     "execution_count": 496,
     "metadata": {},
     "output_type": "execute_result"
    }
   ],
   "source": [
    "y_pred = egr.predict(test_X_)\n",
    "y_pred "
   ]
  },
  {
   "cell_type": "markdown",
   "metadata": {},
   "source": [
    "### qiime2"
   ]
  },
  {
   "cell_type": "code",
   "execution_count": 506,
   "metadata": {},
   "outputs": [],
   "source": [
    "import q2_sample_classifier"
   ]
  },
  {
   "cell_type": "code",
   "execution_count": 504,
   "metadata": {},
   "outputs": [
    {
     "name": "stdout",
     "output_type": "stream",
     "text": [
      "\u001b[32mSystem versions\u001b[0m\n",
      "Python version: 3.6.7\n",
      "QIIME 2 release: 2019.7\n",
      "QIIME 2 version: 2019.7.0\n",
      "q2cli version: 2019.7.0\n",
      "\u001b[32m\n",
      "Installed plugins\u001b[0m\n",
      "alignment: 2019.7.0\n",
      "breakaway: 0+untagged.71.g503723a\n",
      "composition: 2019.7.0\n",
      "cutadapt: 2019.7.0\n",
      "dada2: 2019.7.0\n",
      "deblur: 2019.7.0\n",
      "deicode: 0.2.4\n",
      "demux: 2019.7.0\n",
      "diversity: 2019.7.0\n",
      "emperor: 2019.7.0\n",
      "feature-classifier: 2019.7.0\n",
      "feature-table: 2019.7.0\n",
      "fragment-insertion: 2019.7.0\n",
      "gneiss: 2019.7.0\n",
      "longitudinal: 2019.7.0\n",
      "metadata: 2019.7.0\n",
      "mmvec: 1.0.0\n",
      "phylogeny: 2019.7.0\n",
      "quality-control: 2019.7.0\n",
      "quality-filter: 2019.7.0\n",
      "qurro: 0.4.0\n",
      "sample-classifier: 2019.7.1\n",
      "songbird: 0.9.0\n",
      "taxa: 2019.7.0\n",
      "types: 2019.7.0\n",
      "vsearch: 2019.7.0\n",
      "\u001b[32m\n",
      "Application config directory\u001b[0m\n",
      "/Users/huangshi/anaconda3/envs/qiime2-2019.7/var/q2cli\u001b[0m\n",
      "\u001b[32m\n",
      "Getting help\u001b[0m\n",
      "To get help with QIIME 2, visit https://qiime2.org\u001b[0m\n"
     ]
    }
   ],
   "source": [
    "! qiime info"
   ]
  },
  {
   "cell_type": "code",
   "execution_count": 965,
   "metadata": {},
   "outputs": [],
   "source": [
    "from q2_sample_classifier._transformer import _a\n",
    "from q2_sample_classifier._transformer import _b\n",
    "from qiime2.plugins.sample_classifier.pipelines import regress_samples"
   ]
  },
  {
   "cell_type": "code",
   "execution_count": null,
   "metadata": {},
   "outputs": [],
   "source": [
    "class SampleEstimatorDirFmt(model.DirectoryFormat):\n",
    "    version_info = model.File('sklearn_version.json', format=JSONFormat)\n",
    "    sklearn_pipeline = model.File('sklearn_pipeline.tar', format=PickleFormat)"
   ]
  },
  {
   "cell_type": "code",
   "execution_count": 801,
   "metadata": {},
   "outputs": [],
   "source": [
    "def _b(data: Pipeline) -> SampleEstimatorDirFmt:\n",
    "    sklearn_pipeline = PickleFormat()\n",
    "    with tarfile.open(str(sklearn_pipeline), 'w') as tar:\n",
    "        tmpdir = model.DirectoryFormat()\n",
    "        pf = os.path.join(str(tmpdir), 'sklearn_pipeline.pkl')\n",
    "        for fn in joblib.dump(data, pf):\n",
    "            tar.add(fn, os.path.basename(fn))\n",
    "            os.unlink(fn)\n",
    "\n",
    "    dirfmt = SampleEstimatorDirFmt()\n",
    "    dirfmt.version_info.write_data(\n",
    "        {'sklearn-version': sklearn.__version__}, dict)\n",
    "    dirfmt.sklearn_pipeline.write_data(sklearn_pipeline, PickleFormat)\n",
    "\n",
    "    return dirfmt"
   ]
  },
  {
   "cell_type": "markdown",
   "metadata": {},
   "source": [
    "### Save scikit-learn pipeline (tar) and version info (json) on my local disk"
   ]
  },
  {
   "cell_type": "code",
   "execution_count": 956,
   "metadata": {},
   "outputs": [
    {
     "name": "stdout",
     "output_type": "stream",
     "text": [
      "./sklearn_pipeline.pkl\n"
     ]
    }
   ],
   "source": [
    "with tarfile.open('gut_sklearn_pipeline/sklearn_pipeline.tar', 'w') as tar:\n",
    "    tmpdir = '.'\n",
    "    pf = os.path.join(str(tmpdir), 'sklearn_pipeline.pkl')\n",
    "    print(pf)\n",
    "    for fn in joblib.dump(pipe, pf):\n",
    "        tar.add(fn, os.path.basename(fn))\n",
    "        os.unlink(fn)"
   ]
  },
  {
   "cell_type": "code",
   "execution_count": 958,
   "metadata": {},
   "outputs": [],
   "source": [
    "with open('gut_sklearn_pipeline/sklearn_version.json', 'w') as outfile:\n",
    "    json.dump({'sklearn-version': sklearn.__version__}, outfile)"
   ]
  },
  {
   "cell_type": "code",
   "execution_count": 959,
   "metadata": {},
   "outputs": [
    {
     "name": "stdout",
     "output_type": "stream",
     "text": [
      "/Users/huangshi/anaconda3/envs/qiime2-2019.7/lib/python3.6/site-packages/tensorflow/python/framework/dtypes.py:526: FutureWarning: Passing (type, 1) or '1type' as a synonym of type is deprecated; in a future version of numpy, it will be understood as (type, (1,)) / '(1,)type'.\n",
      "  _np_qint8 = np.dtype([(\"qint8\", np.int8, 1)])\n",
      "/Users/huangshi/anaconda3/envs/qiime2-2019.7/lib/python3.6/site-packages/tensorflow/python/framework/dtypes.py:527: FutureWarning: Passing (type, 1) or '1type' as a synonym of type is deprecated; in a future version of numpy, it will be understood as (type, (1,)) / '(1,)type'.\n",
      "  _np_quint8 = np.dtype([(\"quint8\", np.uint8, 1)])\n",
      "/Users/huangshi/anaconda3/envs/qiime2-2019.7/lib/python3.6/site-packages/tensorflow/python/framework/dtypes.py:528: FutureWarning: Passing (type, 1) or '1type' as a synonym of type is deprecated; in a future version of numpy, it will be understood as (type, (1,)) / '(1,)type'.\n",
      "  _np_qint16 = np.dtype([(\"qint16\", np.int16, 1)])\n",
      "/Users/huangshi/anaconda3/envs/qiime2-2019.7/lib/python3.6/site-packages/tensorflow/python/framework/dtypes.py:529: FutureWarning: Passing (type, 1) or '1type' as a synonym of type is deprecated; in a future version of numpy, it will be understood as (type, (1,)) / '(1,)type'.\n",
      "  _np_quint16 = np.dtype([(\"quint16\", np.uint16, 1)])\n",
      "/Users/huangshi/anaconda3/envs/qiime2-2019.7/lib/python3.6/site-packages/tensorflow/python/framework/dtypes.py:530: FutureWarning: Passing (type, 1) or '1type' as a synonym of type is deprecated; in a future version of numpy, it will be understood as (type, (1,)) / '(1,)type'.\n",
      "  _np_qint32 = np.dtype([(\"qint32\", np.int32, 1)])\n",
      "/Users/huangshi/anaconda3/envs/qiime2-2019.7/lib/python3.6/site-packages/tensorflow/python/framework/dtypes.py:535: FutureWarning: Passing (type, 1) or '1type' as a synonym of type is deprecated; in a future version of numpy, it will be understood as (type, (1,)) / '(1,)type'.\n",
      "  np_resource = np.dtype([(\"resource\", np.ubyte, 1)])\n",
      "\u001b[32mImported ./gut_sklearn_pipeline as SampleEstimatorDirFmt to gut_sklearn_pipeline.qza\u001b[0m\n"
     ]
    }
   ],
   "source": [
    "! qiime tools import \\\n",
    "--type 'SampleEstimator[Regressor]' \\\n",
    "--input-path ./gut_sklearn_pipeline \\\n",
    "--output-path gut_sklearn_pipeline.qza"
   ]
  },
  {
   "cell_type": "code",
   "execution_count": 969,
   "metadata": {},
   "outputs": [
    {
     "data": {
      "text/plain": [
       "<artifact: SampleEstimator[Regressor] uuid: 10304669-110e-4c69-bf48-ea8f96d57f6f>"
      ]
     },
     "execution_count": 969,
     "metadata": {},
     "output_type": "execute_result"
    }
   ],
   "source": [
    "gut_sklearn_pipeline_q2 = q2.Artifact.load('gut_sklearn_pipeline.qza')\n",
    "gut_sklearn_pipeline_q2"
   ]
  },
  {
   "cell_type": "code",
   "execution_count": 908,
   "metadata": {},
   "outputs": [
    {
     "data": {
      "text/plain": [
       "Pipeline(memory=None,\n",
       "         steps=[('egr',\n",
       "                 RandomForestRegressor(bootstrap=True, criterion='mse',\n",
       "                                       max_depth=2, max_features='auto',\n",
       "                                       max_leaf_nodes=None,\n",
       "                                       min_impurity_decrease=0.0,\n",
       "                                       min_impurity_split=None,\n",
       "                                       min_samples_leaf=1, min_samples_split=2,\n",
       "                                       min_weight_fraction_leaf=0.0,\n",
       "                                       n_estimators=500, n_jobs=None,\n",
       "                                       oob_score=False, random_state=0,\n",
       "                                       verbose=0, warm_start=False))],\n",
       "         verbose=False)"
      ]
     },
     "execution_count": 908,
     "metadata": {},
     "output_type": "execute_result"
    }
   ],
   "source": [
    "pipe"
   ]
  },
  {
   "cell_type": "code",
   "execution_count": null,
   "metadata": {},
   "outputs": [],
   "source": []
  },
  {
   "cell_type": "code",
   "execution_count": 918,
   "metadata": {},
   "outputs": [
    {
     "data": {
      "text/plain": [
       "<pipeline qiime2.plugins.sample_classifier.pipelines.regress_samples>"
      ]
     },
     "execution_count": 918,
     "metadata": {},
     "output_type": "execute_result"
    }
   ],
   "source": [
    "regress_samples"
   ]
  },
  {
   "cell_type": "code",
   "execution_count": 919,
   "metadata": {},
   "outputs": [],
   "source": [
    "#regress_samples(train_table, train_metadata[train_target_field])"
   ]
  },
  {
   "cell_type": "markdown",
   "metadata": {},
   "source": [
    "##  Microbiome age prediction using q2_sample_classifier.classify.predict_regression"
   ]
  },
  {
   "cell_type": "code",
   "execution_count": 1040,
   "metadata": {},
   "outputs": [
    {
     "name": "stdout",
     "output_type": "stream",
     "text": [
      "/Users/huangshi/anaconda3/envs/qiime2-2019.7/lib/python3.6/site-packages/tensorflow/python/framework/dtypes.py:526: FutureWarning: Passing (type, 1) or '1type' as a synonym of type is deprecated; in a future version of numpy, it will be understood as (type, (1,)) / '(1,)type'.\n",
      "  _np_qint8 = np.dtype([(\"qint8\", np.int8, 1)])\n",
      "/Users/huangshi/anaconda3/envs/qiime2-2019.7/lib/python3.6/site-packages/tensorflow/python/framework/dtypes.py:527: FutureWarning: Passing (type, 1) or '1type' as a synonym of type is deprecated; in a future version of numpy, it will be understood as (type, (1,)) / '(1,)type'.\n",
      "  _np_quint8 = np.dtype([(\"quint8\", np.uint8, 1)])\n",
      "/Users/huangshi/anaconda3/envs/qiime2-2019.7/lib/python3.6/site-packages/tensorflow/python/framework/dtypes.py:528: FutureWarning: Passing (type, 1) or '1type' as a synonym of type is deprecated; in a future version of numpy, it will be understood as (type, (1,)) / '(1,)type'.\n",
      "  _np_qint16 = np.dtype([(\"qint16\", np.int16, 1)])\n",
      "/Users/huangshi/anaconda3/envs/qiime2-2019.7/lib/python3.6/site-packages/tensorflow/python/framework/dtypes.py:529: FutureWarning: Passing (type, 1) or '1type' as a synonym of type is deprecated; in a future version of numpy, it will be understood as (type, (1,)) / '(1,)type'.\n",
      "  _np_quint16 = np.dtype([(\"quint16\", np.uint16, 1)])\n",
      "/Users/huangshi/anaconda3/envs/qiime2-2019.7/lib/python3.6/site-packages/tensorflow/python/framework/dtypes.py:530: FutureWarning: Passing (type, 1) or '1type' as a synonym of type is deprecated; in a future version of numpy, it will be understood as (type, (1,)) / '(1,)type'.\n",
      "  _np_qint32 = np.dtype([(\"qint32\", np.int32, 1)])\n",
      "/Users/huangshi/anaconda3/envs/qiime2-2019.7/lib/python3.6/site-packages/tensorflow/python/framework/dtypes.py:535: FutureWarning: Passing (type, 1) or '1type' as a synonym of type is deprecated; in a future version of numpy, it will be understood as (type, (1,)) / '(1,)type'.\n",
      "  np_resource = np.dtype([(\"resource\", np.ubyte, 1)])\n",
      "\u001b[32mImported /Users/huangshi/MyProjects/CMI-IBM/age-prediction/Input/gut_data/gut_4434.biom as BIOMV210DirFmt to /Users/huangshi/MyProjects/CMI-IBM/age-prediction/Input/gut_data/gut_4434.qza\u001b[0m\n"
     ]
    }
   ],
   "source": [
    "! qiime tools import \\\n",
    "--type 'FeatureTable[Frequency]'\\\n",
    "--input-path /Users/huangshi/MyProjects/CMI-IBM/age-prediction/Input/gut_data/gut_4434.biom \\\n",
    "--output-path /Users/huangshi/MyProjects/CMI-IBM/age-prediction/Input/gut_data/gut_4434.qza"
   ]
  },
  {
   "cell_type": "code",
   "execution_count": 901,
   "metadata": {},
   "outputs": [],
   "source": [
    "test_X_mat=test_X_.T.to_numpy()"
   ]
  },
  {
   "cell_type": "code",
   "execution_count": 914,
   "metadata": {},
   "outputs": [
    {
     "data": {
      "text/plain": [
       "65694 x 184 <class 'biom.table.Table'> with 50844 nonzero entries (0% dense)"
      ]
     },
     "execution_count": 914,
     "metadata": {},
     "output_type": "execute_result"
    }
   ],
   "source": [
    "test_X_table_ = biom.Table(test_X_mat, test_X_.columns, test_X_.index)\n",
    "test_X_table_\n"
   ]
  },
  {
   "cell_type": "code",
   "execution_count": 1034,
   "metadata": {},
   "outputs": [],
   "source": [
    "with biom.util.biom_open('/Users/huangshi/MyProjects/CMI-IBM/Datasets/SAGE/data/feature-table.padding_gut_4434.biom', 'w') as f:\n",
    "    test_X_table_.to_hdf5(f, \"example\")"
   ]
  },
  {
   "cell_type": "code",
   "execution_count": 1035,
   "metadata": {},
   "outputs": [
    {
     "name": "stdout",
     "output_type": "stream",
     "text": [
      "/Users/huangshi/anaconda3/envs/qiime2-2019.7/lib/python3.6/site-packages/tensorflow/python/framework/dtypes.py:526: FutureWarning: Passing (type, 1) or '1type' as a synonym of type is deprecated; in a future version of numpy, it will be understood as (type, (1,)) / '(1,)type'.\n",
      "  _np_qint8 = np.dtype([(\"qint8\", np.int8, 1)])\n",
      "/Users/huangshi/anaconda3/envs/qiime2-2019.7/lib/python3.6/site-packages/tensorflow/python/framework/dtypes.py:527: FutureWarning: Passing (type, 1) or '1type' as a synonym of type is deprecated; in a future version of numpy, it will be understood as (type, (1,)) / '(1,)type'.\n",
      "  _np_quint8 = np.dtype([(\"quint8\", np.uint8, 1)])\n",
      "/Users/huangshi/anaconda3/envs/qiime2-2019.7/lib/python3.6/site-packages/tensorflow/python/framework/dtypes.py:528: FutureWarning: Passing (type, 1) or '1type' as a synonym of type is deprecated; in a future version of numpy, it will be understood as (type, (1,)) / '(1,)type'.\n",
      "  _np_qint16 = np.dtype([(\"qint16\", np.int16, 1)])\n",
      "/Users/huangshi/anaconda3/envs/qiime2-2019.7/lib/python3.6/site-packages/tensorflow/python/framework/dtypes.py:529: FutureWarning: Passing (type, 1) or '1type' as a synonym of type is deprecated; in a future version of numpy, it will be understood as (type, (1,)) / '(1,)type'.\n",
      "  _np_quint16 = np.dtype([(\"quint16\", np.uint16, 1)])\n",
      "/Users/huangshi/anaconda3/envs/qiime2-2019.7/lib/python3.6/site-packages/tensorflow/python/framework/dtypes.py:530: FutureWarning: Passing (type, 1) or '1type' as a synonym of type is deprecated; in a future version of numpy, it will be understood as (type, (1,)) / '(1,)type'.\n",
      "  _np_qint32 = np.dtype([(\"qint32\", np.int32, 1)])\n",
      "/Users/huangshi/anaconda3/envs/qiime2-2019.7/lib/python3.6/site-packages/tensorflow/python/framework/dtypes.py:535: FutureWarning: Passing (type, 1) or '1type' as a synonym of type is deprecated; in a future version of numpy, it will be understood as (type, (1,)) / '(1,)type'.\n",
      "  np_resource = np.dtype([(\"resource\", np.ubyte, 1)])\n",
      "\u001b[32mImported /Users/huangshi/MyProjects/CMI-IBM/Datasets/SAGE/data/feature-table.padding_gut_4434.biom as BIOMV210DirFmt to /Users/huangshi/MyProjects/CMI-IBM/Datasets/SAGE/data/feature-table.padding_gut_4434.qza\u001b[0m\n"
     ]
    }
   ],
   "source": [
    "! qiime tools import \\\n",
    "--type 'FeatureTable[Frequency]'\\\n",
    "--input-path /Users/huangshi/MyProjects/CMI-IBM/Datasets/SAGE/data/feature-table.padding_gut_4434.biom \\\n",
    "--output-path /Users/huangshi/MyProjects/CMI-IBM/Datasets/SAGE/data/feature-table.padding_gut_4434.qza"
   ]
  },
  {
   "cell_type": "code",
   "execution_count": 1038,
   "metadata": {},
   "outputs": [
    {
     "name": "stdout",
     "output_type": "stream",
     "text": [
      "/Users/huangshi/anaconda3/envs/qiime2-2019.7/lib/python3.6/site-packages/tensorflow/python/framework/dtypes.py:526: FutureWarning: Passing (type, 1) or '1type' as a synonym of type is deprecated; in a future version of numpy, it will be understood as (type, (1,)) / '(1,)type'.\n",
      "  _np_qint8 = np.dtype([(\"qint8\", np.int8, 1)])\n",
      "/Users/huangshi/anaconda3/envs/qiime2-2019.7/lib/python3.6/site-packages/tensorflow/python/framework/dtypes.py:527: FutureWarning: Passing (type, 1) or '1type' as a synonym of type is deprecated; in a future version of numpy, it will be understood as (type, (1,)) / '(1,)type'.\n",
      "  _np_quint8 = np.dtype([(\"quint8\", np.uint8, 1)])\n",
      "/Users/huangshi/anaconda3/envs/qiime2-2019.7/lib/python3.6/site-packages/tensorflow/python/framework/dtypes.py:528: FutureWarning: Passing (type, 1) or '1type' as a synonym of type is deprecated; in a future version of numpy, it will be understood as (type, (1,)) / '(1,)type'.\n",
      "  _np_qint16 = np.dtype([(\"qint16\", np.int16, 1)])\n",
      "/Users/huangshi/anaconda3/envs/qiime2-2019.7/lib/python3.6/site-packages/tensorflow/python/framework/dtypes.py:529: FutureWarning: Passing (type, 1) or '1type' as a synonym of type is deprecated; in a future version of numpy, it will be understood as (type, (1,)) / '(1,)type'.\n",
      "  _np_quint16 = np.dtype([(\"quint16\", np.uint16, 1)])\n",
      "/Users/huangshi/anaconda3/envs/qiime2-2019.7/lib/python3.6/site-packages/tensorflow/python/framework/dtypes.py:530: FutureWarning: Passing (type, 1) or '1type' as a synonym of type is deprecated; in a future version of numpy, it will be understood as (type, (1,)) / '(1,)type'.\n",
      "  _np_qint32 = np.dtype([(\"qint32\", np.int32, 1)])\n",
      "/Users/huangshi/anaconda3/envs/qiime2-2019.7/lib/python3.6/site-packages/tensorflow/python/framework/dtypes.py:535: FutureWarning: Passing (type, 1) or '1type' as a synonym of type is deprecated; in a future version of numpy, it will be understood as (type, (1,)) / '(1,)type'.\n",
      "  np_resource = np.dtype([(\"resource\", np.ubyte, 1)])\n",
      "\u001b[31m\u001b[1mPlugin error from sample-classifier:\n",
      "\n",
      "  float() argument must be a string or a number, not 'dict'\n",
      "\n",
      "Debug info has been saved to /var/folders/kr/2t02j7m97sz_xbpgqf_yl4kr0000gn/T/qiime2-q2cli-err-k_3s4jnl.log\u001b[0m\n"
     ]
    }
   ],
   "source": [
    "! qiime sample-classifier predict-regression \\\n",
    "--i-table /Users/huangshi/MyProjects/CMI-IBM/Datasets/SAGE/data/feature-table.padding_gut_4434.qza \\\n",
    "--i-sample-estimator  gut_sklearn_pipeline.qza \\\n",
    "--o-predictions gut_sklearn_pipeline_prediction.qza"
   ]
  },
  {
   "cell_type": "markdown",
   "metadata": {},
   "source": [
    "### Q2 API"
   ]
  },
  {
   "cell_type": "code",
   "execution_count": 915,
   "metadata": {},
   "outputs": [
    {
     "data": {
      "text/plain": [
       "Pipeline(memory=None,\n",
       "         steps=[('egr',\n",
       "                 RandomForestRegressor(bootstrap=True, criterion='mse',\n",
       "                                       max_depth=2, max_features='auto',\n",
       "                                       max_leaf_nodes=None,\n",
       "                                       min_impurity_decrease=0.0,\n",
       "                                       min_impurity_split=None,\n",
       "                                       min_samples_leaf=1, min_samples_split=2,\n",
       "                                       min_weight_fraction_leaf=0.0,\n",
       "                                       n_estimators=500, n_jobs=None,\n",
       "                                       oob_score=False, random_state=0,\n",
       "                                       verbose=0, warm_start=False))],\n",
       "         verbose=False)"
      ]
     },
     "execution_count": 915,
     "metadata": {},
     "output_type": "execute_result"
    }
   ],
   "source": [
    "pipe"
   ]
  },
  {
   "cell_type": "code",
   "execution_count": 911,
   "metadata": {},
   "outputs": [
    {
     "data": {
      "text/plain": [
       "<function q2_sample_classifier.classify.predict_regression(table:biom.table.Table, sample_estimator:sklearn.pipeline.Pipeline, n_jobs:int=1) -> pandas.core.series.Series>"
      ]
     },
     "execution_count": 911,
     "metadata": {},
     "output_type": "execute_result"
    }
   ],
   "source": [
    "predict_regression"
   ]
  },
  {
   "cell_type": "code",
   "execution_count": 973,
   "metadata": {},
   "outputs": [
    {
     "ename": "TypeError",
     "evalue": "float() argument must be a string or a number, not 'dict'",
     "output_type": "error",
     "traceback": [
      "\u001b[0;31m---------------------------------------------------------------------------\u001b[0m",
      "\u001b[0;31mTypeError\u001b[0m                                 Traceback (most recent call last)",
      "\u001b[0;32m<ipython-input-973-6c77f4fc6a1b>\u001b[0m in \u001b[0;36m<module>\u001b[0;34m\u001b[0m\n\u001b[0;32m----> 1\u001b[0;31m \u001b[0mpredict_regression\u001b[0m\u001b[0;34m(\u001b[0m\u001b[0mtest_X_table_\u001b[0m\u001b[0;34m,\u001b[0m \u001b[0mpipe\u001b[0m\u001b[0;34m)\u001b[0m\u001b[0;34m\u001b[0m\u001b[0;34m\u001b[0m\u001b[0m\n\u001b[0m",
      "\u001b[0;32m~/anaconda3/envs/qiime2-2019.7/lib/python3.6/site-packages/q2_sample_classifier/classify.py\u001b[0m in \u001b[0;36mpredict_regression\u001b[0;34m(table, sample_estimator, n_jobs)\u001b[0m\n\u001b[1;32m    289\u001b[0m     \u001b[0;31m# we only return the predictions, not the probabilities, which are empty\u001b[0m\u001b[0;34m\u001b[0m\u001b[0;34m\u001b[0m\u001b[0;34m\u001b[0m\u001b[0m\n\u001b[1;32m    290\u001b[0m     \u001b[0;31m# for regressors.\u001b[0m\u001b[0;34m\u001b[0m\u001b[0;34m\u001b[0m\u001b[0;34m\u001b[0m\u001b[0m\n\u001b[0;32m--> 291\u001b[0;31m     \u001b[0;32mreturn\u001b[0m \u001b[0mpredict_base\u001b[0m\u001b[0;34m(\u001b[0m\u001b[0mtable\u001b[0m\u001b[0;34m,\u001b[0m \u001b[0msample_estimator\u001b[0m\u001b[0;34m,\u001b[0m \u001b[0mn_jobs\u001b[0m\u001b[0;34m)\u001b[0m\u001b[0;34m[\u001b[0m\u001b[0;36m0\u001b[0m\u001b[0;34m]\u001b[0m\u001b[0;34m\u001b[0m\u001b[0;34m\u001b[0m\u001b[0m\n\u001b[0m\u001b[1;32m    292\u001b[0m \u001b[0;34m\u001b[0m\u001b[0m\n\u001b[1;32m    293\u001b[0m \u001b[0;34m\u001b[0m\u001b[0m\n",
      "\u001b[0;32m~/anaconda3/envs/qiime2-2019.7/lib/python3.6/site-packages/q2_sample_classifier/classify.py\u001b[0m in \u001b[0;36mpredict_base\u001b[0;34m(table, sample_estimator, n_jobs)\u001b[0m\n\u001b[1;32m    264\u001b[0m \u001b[0;34m\u001b[0m\u001b[0m\n\u001b[1;32m    265\u001b[0m     \u001b[0;31m# predict values and output as series\u001b[0m\u001b[0;34m\u001b[0m\u001b[0;34m\u001b[0m\u001b[0;34m\u001b[0m\u001b[0m\n\u001b[0;32m--> 266\u001b[0;31m     \u001b[0my_pred\u001b[0m \u001b[0;34m=\u001b[0m \u001b[0msample_estimator\u001b[0m\u001b[0;34m.\u001b[0m\u001b[0mpredict\u001b[0m\u001b[0;34m(\u001b[0m\u001b[0mfeature_data\u001b[0m\u001b[0;34m)\u001b[0m\u001b[0;34m\u001b[0m\u001b[0;34m\u001b[0m\u001b[0m\n\u001b[0m\u001b[1;32m    267\u001b[0m     \u001b[0;31m# need to flatten arrays that come out as multidimensional\u001b[0m\u001b[0;34m\u001b[0m\u001b[0;34m\u001b[0m\u001b[0;34m\u001b[0m\u001b[0m\n\u001b[1;32m    268\u001b[0m     \u001b[0my_pred\u001b[0m \u001b[0;34m=\u001b[0m \u001b[0my_pred\u001b[0m\u001b[0;34m.\u001b[0m\u001b[0mflatten\u001b[0m\u001b[0;34m(\u001b[0m\u001b[0;34m)\u001b[0m\u001b[0;34m\u001b[0m\u001b[0;34m\u001b[0m\u001b[0m\n",
      "\u001b[0;32m~/anaconda3/envs/qiime2-2019.7/lib/python3.6/site-packages/sklearn/utils/metaestimators.py\u001b[0m in \u001b[0;36m<lambda>\u001b[0;34m(*args, **kwargs)\u001b[0m\n\u001b[1;32m    114\u001b[0m \u001b[0;34m\u001b[0m\u001b[0m\n\u001b[1;32m    115\u001b[0m         \u001b[0;31m# lambda, but not partial, allows help() to work with update_wrapper\u001b[0m\u001b[0;34m\u001b[0m\u001b[0;34m\u001b[0m\u001b[0;34m\u001b[0m\u001b[0m\n\u001b[0;32m--> 116\u001b[0;31m         \u001b[0mout\u001b[0m \u001b[0;34m=\u001b[0m \u001b[0;32mlambda\u001b[0m \u001b[0;34m*\u001b[0m\u001b[0margs\u001b[0m\u001b[0;34m,\u001b[0m \u001b[0;34m**\u001b[0m\u001b[0mkwargs\u001b[0m\u001b[0;34m:\u001b[0m \u001b[0mself\u001b[0m\u001b[0;34m.\u001b[0m\u001b[0mfn\u001b[0m\u001b[0;34m(\u001b[0m\u001b[0mobj\u001b[0m\u001b[0;34m,\u001b[0m \u001b[0;34m*\u001b[0m\u001b[0margs\u001b[0m\u001b[0;34m,\u001b[0m \u001b[0;34m**\u001b[0m\u001b[0mkwargs\u001b[0m\u001b[0;34m)\u001b[0m\u001b[0;34m\u001b[0m\u001b[0;34m\u001b[0m\u001b[0m\n\u001b[0m\u001b[1;32m    117\u001b[0m         \u001b[0;31m# update the docstring of the returned function\u001b[0m\u001b[0;34m\u001b[0m\u001b[0;34m\u001b[0m\u001b[0;34m\u001b[0m\u001b[0m\n\u001b[1;32m    118\u001b[0m         \u001b[0mupdate_wrapper\u001b[0m\u001b[0;34m(\u001b[0m\u001b[0mout\u001b[0m\u001b[0;34m,\u001b[0m \u001b[0mself\u001b[0m\u001b[0;34m.\u001b[0m\u001b[0mfn\u001b[0m\u001b[0;34m)\u001b[0m\u001b[0;34m\u001b[0m\u001b[0;34m\u001b[0m\u001b[0m\n",
      "\u001b[0;32m~/anaconda3/envs/qiime2-2019.7/lib/python3.6/site-packages/sklearn/pipeline.py\u001b[0m in \u001b[0;36mpredict\u001b[0;34m(self, X, **predict_params)\u001b[0m\n\u001b[1;32m    420\u001b[0m         \u001b[0;32mfor\u001b[0m \u001b[0m_\u001b[0m\u001b[0;34m,\u001b[0m \u001b[0mname\u001b[0m\u001b[0;34m,\u001b[0m \u001b[0mtransform\u001b[0m \u001b[0;32min\u001b[0m \u001b[0mself\u001b[0m\u001b[0;34m.\u001b[0m\u001b[0m_iter\u001b[0m\u001b[0;34m(\u001b[0m\u001b[0mwith_final\u001b[0m\u001b[0;34m=\u001b[0m\u001b[0;32mFalse\u001b[0m\u001b[0;34m)\u001b[0m\u001b[0;34m:\u001b[0m\u001b[0;34m\u001b[0m\u001b[0;34m\u001b[0m\u001b[0m\n\u001b[1;32m    421\u001b[0m             \u001b[0mXt\u001b[0m \u001b[0;34m=\u001b[0m \u001b[0mtransform\u001b[0m\u001b[0;34m.\u001b[0m\u001b[0mtransform\u001b[0m\u001b[0;34m(\u001b[0m\u001b[0mXt\u001b[0m\u001b[0;34m)\u001b[0m\u001b[0;34m\u001b[0m\u001b[0;34m\u001b[0m\u001b[0m\n\u001b[0;32m--> 422\u001b[0;31m         \u001b[0;32mreturn\u001b[0m \u001b[0mself\u001b[0m\u001b[0;34m.\u001b[0m\u001b[0msteps\u001b[0m\u001b[0;34m[\u001b[0m\u001b[0;34m-\u001b[0m\u001b[0;36m1\u001b[0m\u001b[0;34m]\u001b[0m\u001b[0;34m[\u001b[0m\u001b[0;34m-\u001b[0m\u001b[0;36m1\u001b[0m\u001b[0;34m]\u001b[0m\u001b[0;34m.\u001b[0m\u001b[0mpredict\u001b[0m\u001b[0;34m(\u001b[0m\u001b[0mXt\u001b[0m\u001b[0;34m,\u001b[0m \u001b[0;34m**\u001b[0m\u001b[0mpredict_params\u001b[0m\u001b[0;34m)\u001b[0m\u001b[0;34m\u001b[0m\u001b[0;34m\u001b[0m\u001b[0m\n\u001b[0m\u001b[1;32m    423\u001b[0m \u001b[0;34m\u001b[0m\u001b[0m\n\u001b[1;32m    424\u001b[0m     \u001b[0;34m@\u001b[0m\u001b[0mif_delegate_has_method\u001b[0m\u001b[0;34m(\u001b[0m\u001b[0mdelegate\u001b[0m\u001b[0;34m=\u001b[0m\u001b[0;34m'_final_estimator'\u001b[0m\u001b[0;34m)\u001b[0m\u001b[0;34m\u001b[0m\u001b[0;34m\u001b[0m\u001b[0m\n",
      "\u001b[0;32m~/anaconda3/envs/qiime2-2019.7/lib/python3.6/site-packages/sklearn/ensemble/forest.py\u001b[0m in \u001b[0;36mpredict\u001b[0;34m(self, X)\u001b[0m\n\u001b[1;32m    691\u001b[0m         \u001b[0mcheck_is_fitted\u001b[0m\u001b[0;34m(\u001b[0m\u001b[0mself\u001b[0m\u001b[0;34m,\u001b[0m \u001b[0;34m'estimators_'\u001b[0m\u001b[0;34m)\u001b[0m\u001b[0;34m\u001b[0m\u001b[0;34m\u001b[0m\u001b[0m\n\u001b[1;32m    692\u001b[0m         \u001b[0;31m# Check data\u001b[0m\u001b[0;34m\u001b[0m\u001b[0;34m\u001b[0m\u001b[0;34m\u001b[0m\u001b[0m\n\u001b[0;32m--> 693\u001b[0;31m         \u001b[0mX\u001b[0m \u001b[0;34m=\u001b[0m \u001b[0mself\u001b[0m\u001b[0;34m.\u001b[0m\u001b[0m_validate_X_predict\u001b[0m\u001b[0;34m(\u001b[0m\u001b[0mX\u001b[0m\u001b[0;34m)\u001b[0m\u001b[0;34m\u001b[0m\u001b[0;34m\u001b[0m\u001b[0m\n\u001b[0m\u001b[1;32m    694\u001b[0m \u001b[0;34m\u001b[0m\u001b[0m\n\u001b[1;32m    695\u001b[0m         \u001b[0;31m# Assign chunk of trees to jobs\u001b[0m\u001b[0;34m\u001b[0m\u001b[0;34m\u001b[0m\u001b[0;34m\u001b[0m\u001b[0m\n",
      "\u001b[0;32m~/anaconda3/envs/qiime2-2019.7/lib/python3.6/site-packages/sklearn/ensemble/forest.py\u001b[0m in \u001b[0;36m_validate_X_predict\u001b[0;34m(self, X)\u001b[0m\n\u001b[1;32m    357\u001b[0m                                  \"call `fit` before exploiting the model.\")\n\u001b[1;32m    358\u001b[0m \u001b[0;34m\u001b[0m\u001b[0m\n\u001b[0;32m--> 359\u001b[0;31m         \u001b[0;32mreturn\u001b[0m \u001b[0mself\u001b[0m\u001b[0;34m.\u001b[0m\u001b[0mestimators_\u001b[0m\u001b[0;34m[\u001b[0m\u001b[0;36m0\u001b[0m\u001b[0;34m]\u001b[0m\u001b[0;34m.\u001b[0m\u001b[0m_validate_X_predict\u001b[0m\u001b[0;34m(\u001b[0m\u001b[0mX\u001b[0m\u001b[0;34m,\u001b[0m \u001b[0mcheck_input\u001b[0m\u001b[0;34m=\u001b[0m\u001b[0;32mTrue\u001b[0m\u001b[0;34m)\u001b[0m\u001b[0;34m\u001b[0m\u001b[0;34m\u001b[0m\u001b[0m\n\u001b[0m\u001b[1;32m    360\u001b[0m \u001b[0;34m\u001b[0m\u001b[0m\n\u001b[1;32m    361\u001b[0m     \u001b[0;34m@\u001b[0m\u001b[0mproperty\u001b[0m\u001b[0;34m\u001b[0m\u001b[0;34m\u001b[0m\u001b[0m\n",
      "\u001b[0;32m~/anaconda3/envs/qiime2-2019.7/lib/python3.6/site-packages/sklearn/tree/tree.py\u001b[0m in \u001b[0;36m_validate_X_predict\u001b[0;34m(self, X, check_input)\u001b[0m\n\u001b[1;32m    389\u001b[0m         \u001b[0;34m\"\"\"Validate X whenever one tries to predict, apply, predict_proba\"\"\"\u001b[0m\u001b[0;34m\u001b[0m\u001b[0;34m\u001b[0m\u001b[0m\n\u001b[1;32m    390\u001b[0m         \u001b[0;32mif\u001b[0m \u001b[0mcheck_input\u001b[0m\u001b[0;34m:\u001b[0m\u001b[0;34m\u001b[0m\u001b[0;34m\u001b[0m\u001b[0m\n\u001b[0;32m--> 391\u001b[0;31m             \u001b[0mX\u001b[0m \u001b[0;34m=\u001b[0m \u001b[0mcheck_array\u001b[0m\u001b[0;34m(\u001b[0m\u001b[0mX\u001b[0m\u001b[0;34m,\u001b[0m \u001b[0mdtype\u001b[0m\u001b[0;34m=\u001b[0m\u001b[0mDTYPE\u001b[0m\u001b[0;34m,\u001b[0m \u001b[0maccept_sparse\u001b[0m\u001b[0;34m=\u001b[0m\u001b[0;34m\"csr\"\u001b[0m\u001b[0;34m)\u001b[0m\u001b[0;34m\u001b[0m\u001b[0;34m\u001b[0m\u001b[0m\n\u001b[0m\u001b[1;32m    392\u001b[0m             if issparse(X) and (X.indices.dtype != np.intc or\n\u001b[1;32m    393\u001b[0m                                 X.indptr.dtype != np.intc):\n",
      "\u001b[0;32m~/anaconda3/envs/qiime2-2019.7/lib/python3.6/site-packages/sklearn/utils/validation.py\u001b[0m in \u001b[0;36mcheck_array\u001b[0;34m(array, accept_sparse, accept_large_sparse, dtype, order, copy, force_all_finite, ensure_2d, allow_nd, ensure_min_samples, ensure_min_features, warn_on_dtype, estimator)\u001b[0m\n\u001b[1;32m    494\u001b[0m             \u001b[0;32mtry\u001b[0m\u001b[0;34m:\u001b[0m\u001b[0;34m\u001b[0m\u001b[0;34m\u001b[0m\u001b[0m\n\u001b[1;32m    495\u001b[0m                 \u001b[0mwarnings\u001b[0m\u001b[0;34m.\u001b[0m\u001b[0msimplefilter\u001b[0m\u001b[0;34m(\u001b[0m\u001b[0;34m'error'\u001b[0m\u001b[0;34m,\u001b[0m \u001b[0mComplexWarning\u001b[0m\u001b[0;34m)\u001b[0m\u001b[0;34m\u001b[0m\u001b[0;34m\u001b[0m\u001b[0m\n\u001b[0;32m--> 496\u001b[0;31m                 \u001b[0marray\u001b[0m \u001b[0;34m=\u001b[0m \u001b[0mnp\u001b[0m\u001b[0;34m.\u001b[0m\u001b[0masarray\u001b[0m\u001b[0;34m(\u001b[0m\u001b[0marray\u001b[0m\u001b[0;34m,\u001b[0m \u001b[0mdtype\u001b[0m\u001b[0;34m=\u001b[0m\u001b[0mdtype\u001b[0m\u001b[0;34m,\u001b[0m \u001b[0morder\u001b[0m\u001b[0;34m=\u001b[0m\u001b[0morder\u001b[0m\u001b[0;34m)\u001b[0m\u001b[0;34m\u001b[0m\u001b[0;34m\u001b[0m\u001b[0m\n\u001b[0m\u001b[1;32m    497\u001b[0m             \u001b[0;32mexcept\u001b[0m \u001b[0mComplexWarning\u001b[0m\u001b[0;34m:\u001b[0m\u001b[0;34m\u001b[0m\u001b[0;34m\u001b[0m\u001b[0m\n\u001b[1;32m    498\u001b[0m                 raise ValueError(\"Complex data not supported\\n\"\n",
      "\u001b[0;32m~/anaconda3/envs/qiime2-2019.7/lib/python3.6/site-packages/numpy/core/_asarray.py\u001b[0m in \u001b[0;36masarray\u001b[0;34m(a, dtype, order)\u001b[0m\n\u001b[1;32m     83\u001b[0m \u001b[0;34m\u001b[0m\u001b[0m\n\u001b[1;32m     84\u001b[0m     \"\"\"\n\u001b[0;32m---> 85\u001b[0;31m     \u001b[0;32mreturn\u001b[0m \u001b[0marray\u001b[0m\u001b[0;34m(\u001b[0m\u001b[0ma\u001b[0m\u001b[0;34m,\u001b[0m \u001b[0mdtype\u001b[0m\u001b[0;34m,\u001b[0m \u001b[0mcopy\u001b[0m\u001b[0;34m=\u001b[0m\u001b[0;32mFalse\u001b[0m\u001b[0;34m,\u001b[0m \u001b[0morder\u001b[0m\u001b[0;34m=\u001b[0m\u001b[0morder\u001b[0m\u001b[0;34m)\u001b[0m\u001b[0;34m\u001b[0m\u001b[0;34m\u001b[0m\u001b[0m\n\u001b[0m\u001b[1;32m     86\u001b[0m \u001b[0;34m\u001b[0m\u001b[0m\n\u001b[1;32m     87\u001b[0m \u001b[0;34m\u001b[0m\u001b[0m\n",
      "\u001b[0;31mTypeError\u001b[0m: float() argument must be a string or a number, not 'dict'"
     ]
    }
   ],
   "source": [
    "predict_regression(test_X_table_, pipe)"
   ]
  },
  {
   "cell_type": "code",
   "execution_count": 979,
   "metadata": {},
   "outputs": [
    {
     "name": "stdout",
     "output_type": "stream",
     "text": [
      "/Users/huangshi/anaconda3/envs/qiime2-2019.7/lib/python3.6/site-packages/tensorflow/python/framework/dtypes.py:526: FutureWarning: Passing (type, 1) or '1type' as a synonym of type is deprecated; in a future version of numpy, it will be understood as (type, (1,)) / '(1,)type'.\n",
      "  _np_qint8 = np.dtype([(\"qint8\", np.int8, 1)])\n",
      "/Users/huangshi/anaconda3/envs/qiime2-2019.7/lib/python3.6/site-packages/tensorflow/python/framework/dtypes.py:527: FutureWarning: Passing (type, 1) or '1type' as a synonym of type is deprecated; in a future version of numpy, it will be understood as (type, (1,)) / '(1,)type'.\n",
      "  _np_quint8 = np.dtype([(\"quint8\", np.uint8, 1)])\n",
      "/Users/huangshi/anaconda3/envs/qiime2-2019.7/lib/python3.6/site-packages/tensorflow/python/framework/dtypes.py:528: FutureWarning: Passing (type, 1) or '1type' as a synonym of type is deprecated; in a future version of numpy, it will be understood as (type, (1,)) / '(1,)type'.\n",
      "  _np_qint16 = np.dtype([(\"qint16\", np.int16, 1)])\n",
      "/Users/huangshi/anaconda3/envs/qiime2-2019.7/lib/python3.6/site-packages/tensorflow/python/framework/dtypes.py:529: FutureWarning: Passing (type, 1) or '1type' as a synonym of type is deprecated; in a future version of numpy, it will be understood as (type, (1,)) / '(1,)type'.\n",
      "  _np_quint16 = np.dtype([(\"quint16\", np.uint16, 1)])\n",
      "/Users/huangshi/anaconda3/envs/qiime2-2019.7/lib/python3.6/site-packages/tensorflow/python/framework/dtypes.py:530: FutureWarning: Passing (type, 1) or '1type' as a synonym of type is deprecated; in a future version of numpy, it will be understood as (type, (1,)) / '(1,)type'.\n",
      "  _np_qint32 = np.dtype([(\"qint32\", np.int32, 1)])\n",
      "/Users/huangshi/anaconda3/envs/qiime2-2019.7/lib/python3.6/site-packages/tensorflow/python/framework/dtypes.py:535: FutureWarning: Passing (type, 1) or '1type' as a synonym of type is deprecated; in a future version of numpy, it will be understood as (type, (1,)) / '(1,)type'.\n",
      "  np_resource = np.dtype([(\"resource\", np.ubyte, 1)])\n",
      "DeblurStats\n",
      "DistanceMatrix\n",
      "EMPPairedEndSequences\n",
      "EMPSingleEndSequences\n",
      "ErrorCorrectionDetails\n",
      "FeatureData[AlignedSequence]\n",
      "FeatureData[Conditional]\n",
      "FeatureData[Differential]\n",
      "FeatureData[Importance]\n",
      "FeatureData[PairedEndSequence]\n",
      "FeatureData[Sequence]\n",
      "FeatureData[Taxonomy]\n",
      "FeatureTable[Balance]\n",
      "FeatureTable[Composition]\n",
      "FeatureTable[Frequency]\n",
      "FeatureTable[PercentileNormalized]\n",
      "FeatureTable[PresenceAbsence]\n",
      "FeatureTable[RelativeFrequency]\n",
      "Hierarchy\n",
      "MultiplexedPairedEndBarcodeInSequence\n",
      "MultiplexedSingleEndBarcodeInSequence\n",
      "PCoAResults\n",
      "Phylogeny[Rooted]\n",
      "Phylogeny[Unrooted]\n",
      "Placements\n",
      "QualityFilterStats\n",
      "RawSequences\n",
      "SampleData[AlphaDiversity]\n",
      "SampleData[BooleanSeries]\n",
      "SampleData[ClassifierPredictions]\n",
      "SampleData[DADA2Stats]\n",
      "SampleData[FirstDifferences]\n",
      "SampleData[JoinedSequencesWithQuality]\n",
      "SampleData[PairedEndSequencesWithQuality]\n",
      "SampleData[Probabilities]\n",
      "SampleData[RegressorPredictions]\n",
      "SampleData[SequencesWithQuality]\n",
      "SampleData[Sequences]\n",
      "SampleData[SongbirdStats]\n",
      "SampleEstimator[Classifier]\n",
      "SampleEstimator[Regressor]\n",
      "TaxonomicClassifier\n",
      "UchimeStats\n"
     ]
    }
   ],
   "source": [
    "! qiime tools import --show-importable-types"
   ]
  },
  {
   "cell_type": "code",
   "execution_count": 1054,
   "metadata": {},
   "outputs": [
    {
     "name": "stdout",
     "output_type": "stream",
     "text": [
      "Age.crossRF_clf.ranger.R\r\n",
      "Age.crossRF_reg.ranger.R\r\n",
      "\u001b[34mFigures\u001b[m\u001b[m\r\n",
      "\u001b[34mInput\u001b[m\u001b[m\r\n",
      "Microbiome Age prediction for new datasets.ipynb\r\n",
      "\u001b[34mOutput\u001b[m\u001b[m\r\n",
      "\u001b[34mQiime2_MicrobiomeAgePrediction\u001b[m\u001b[m\r\n",
      "README.md\r\n",
      "\u001b[34mR_MicrobiomeAgePrediction\u001b[m\u001b[m\r\n",
      "age_distribution.png\r\n"
     ]
    }
   ],
   "source": [
    "! cd /Users/huangshi/MyProjects/CMI-IBM/age-prediction/Qiime2_MicrobiomeAgePrediction\n",
    "\n",
    "! ls ."
   ]
  },
  {
   "cell_type": "code",
   "execution_count": null,
   "metadata": {},
   "outputs": [],
   "source": [
    "! qiime sample-classifier regress-samples \\\n",
    "  --i-table /Users/huangshi/MyProjects/CMI-IBM/age-prediction/Qiime2_MicrobiomeAgePrediction/.qza \\\n",
    "  --m-metadata-file ecam-metadata.tsv \\\n",
    "  --m-metadata-column month \\\n",
    "  --p-estimator RandomForestRegressor \\\n",
    "  --p-n-estimators 20 \\\n",
    "  --p-random-state 123 \\\n",
    "  --output-dir ecam-regressor"
   ]
  },
  {
   "cell_type": "code",
   "execution_count": 1049,
   "metadata": {},
   "outputs": [
    {
     "name": "stdout",
     "output_type": "stream",
     "text": [
      "/Users/huangshi/anaconda3/envs/qiime2-2019.7/lib/python3.6/site-packages/tensorflow/python/framework/dtypes.py:526: FutureWarning: Passing (type, 1) or '1type' as a synonym of type is deprecated; in a future version of numpy, it will be understood as (type, (1,)) / '(1,)type'.\n",
      "  _np_qint8 = np.dtype([(\"qint8\", np.int8, 1)])\n",
      "/Users/huangshi/anaconda3/envs/qiime2-2019.7/lib/python3.6/site-packages/tensorflow/python/framework/dtypes.py:527: FutureWarning: Passing (type, 1) or '1type' as a synonym of type is deprecated; in a future version of numpy, it will be understood as (type, (1,)) / '(1,)type'.\n",
      "  _np_quint8 = np.dtype([(\"quint8\", np.uint8, 1)])\n",
      "/Users/huangshi/anaconda3/envs/qiime2-2019.7/lib/python3.6/site-packages/tensorflow/python/framework/dtypes.py:528: FutureWarning: Passing (type, 1) or '1type' as a synonym of type is deprecated; in a future version of numpy, it will be understood as (type, (1,)) / '(1,)type'.\n",
      "  _np_qint16 = np.dtype([(\"qint16\", np.int16, 1)])\n",
      "/Users/huangshi/anaconda3/envs/qiime2-2019.7/lib/python3.6/site-packages/tensorflow/python/framework/dtypes.py:529: FutureWarning: Passing (type, 1) or '1type' as a synonym of type is deprecated; in a future version of numpy, it will be understood as (type, (1,)) / '(1,)type'.\n",
      "  _np_quint16 = np.dtype([(\"quint16\", np.uint16, 1)])\n",
      "/Users/huangshi/anaconda3/envs/qiime2-2019.7/lib/python3.6/site-packages/tensorflow/python/framework/dtypes.py:530: FutureWarning: Passing (type, 1) or '1type' as a synonym of type is deprecated; in a future version of numpy, it will be understood as (type, (1,)) / '(1,)type'.\n",
      "  _np_qint32 = np.dtype([(\"qint32\", np.int32, 1)])\n",
      "/Users/huangshi/anaconda3/envs/qiime2-2019.7/lib/python3.6/site-packages/tensorflow/python/framework/dtypes.py:535: FutureWarning: Passing (type, 1) or '1type' as a synonym of type is deprecated; in a future version of numpy, it will be understood as (type, (1,)) / '(1,)type'.\n",
      "  np_resource = np.dtype([(\"resource\", np.ubyte, 1)])\n",
      "Usage: \u001b[34mqiime sample-classifier regress-samples\u001b[0m [OPTIONS]\n",
      "\n",
      "  Predicts a continuous sample metadata column using a supervised learning\n",
      "  regressor. Splits input data into training and test sets. The training set\n",
      "  is used to train and test the estimator using a stratified k-fold cross-\n",
      "  validation scheme. This includes optional steps for automated feature\n",
      "  extraction and hyperparameter optimization. The test set validates\n",
      "  classification accuracy of the optimized estimator. Outputs classification\n",
      "  results for test set. For more details on the learning algorithm, see\n",
      "  http://scikit-learn.org/stable/supervised_learning.html\n",
      "\n",
      "\u001b[1mInputs\u001b[0m:\n",
      "  \u001b[34m\u001b[4m--i-table\u001b[0m ARTIFACT \u001b[32mFeatureTable[Frequency]\u001b[0m\n",
      "                       Feature table containing all features that should be\n",
      "                       used for target prediction.                  \u001b[35m[required]\u001b[0m\n",
      "\u001b[1mParameters\u001b[0m:\n",
      "  \u001b[34m\u001b[4m--m-metadata-file\u001b[0m METADATA\n",
      "  \u001b[34m\u001b[4m--m-metadata-column\u001b[0m COLUMN  \u001b[32mMetadataColumn[Numeric]\u001b[0m\n",
      "                       Numeric metadata column to use as prediction target.\n",
      "                                                                    \u001b[35m[required]\u001b[0m\n",
      "  \u001b[34m--p-test-size\u001b[0m PROPORTION \u001b[32mRange(0.0, 1.0, inclusive_start=False)\u001b[0m\n",
      "                       Fraction of input samples to exclude from training set\n",
      "                       and use for classifier testing.          \u001b[35m[default: 0.2]\u001b[0m\n",
      "  \u001b[34m--p-step\u001b[0m PROPORTION \u001b[32mRange(0.0, 1.0, inclusive_start=False)\u001b[0m\n",
      "                       If \u001b[4moptimize-feature-selection\u001b[0m is True, step is the\n",
      "                       percentage of features to remove at each iteration.\n",
      "                                                               \u001b[35m[default: 0.05]\u001b[0m\n",
      "  \u001b[34m--p-cv\u001b[0m INTEGER       Number of k-fold cross-validations to perform.\n",
      "    \u001b[32mRange(1, None)\u001b[0m                                                \u001b[35m[default: 5]\u001b[0m\n",
      "  \u001b[34m--p-random-state\u001b[0m INTEGER\n",
      "                       Seed used by random number generator.        \u001b[35m[optional]\u001b[0m\n",
      "  \u001b[34m--p-n-jobs\u001b[0m INTEGER   Number of jobs to run in parallel.         \u001b[35m[default: 1]\u001b[0m\n",
      "  \u001b[34m--p-n-estimators\u001b[0m INTEGER\n",
      "    \u001b[32mRange(1, None)\u001b[0m     Number of trees to grow for estimation. More trees\n",
      "                       will improve predictive accuracy up to a threshold\n",
      "                       level, but will also increase time and memory\n",
      "                       requirements. This parameter only affects ensemble\n",
      "                       estimators, such as Random Forest, AdaBoost,\n",
      "                       ExtraTrees, and GradientBoosting.        \u001b[35m[default: 100]\u001b[0m\n",
      "  \u001b[34m--p-estimator\u001b[0m TEXT \u001b[32mChoices('RandomForestRegressor',\u001b[0m\n",
      "    \u001b[32m'ExtraTreesRegressor', 'GradientBoostingRegressor', 'AdaBoostRegressor',\u001b[0m\n",
      "    \u001b[32m'ElasticNet', 'Ridge', 'Lasso', 'KNeighborsRegressor', 'LinearSVR', 'SVR')\u001b[0m\n",
      "                       Estimator method to use for sample prediction.\n",
      "                                            \u001b[35m[default: 'RandomForestRegressor']\u001b[0m\n",
      "  \u001b[34m--p-optimize-feature-selection\u001b[0m / \u001b[34m--p-no-optimize-feature-selection\u001b[0m\n",
      "                       Automatically optimize input feature selection using\n",
      "                       recursive feature elimination.         \u001b[35m[default: False]\u001b[0m\n",
      "  \u001b[34m--p-stratify\u001b[0m / \u001b[34m--p-no-stratify\u001b[0m\n",
      "                       Evenly stratify training and test data among metadata\n",
      "                       categories. If True, all values in column must match at\n",
      "                       least two samples.                     \u001b[35m[default: False]\u001b[0m\n",
      "  \u001b[34m--p-parameter-tuning\u001b[0m / \u001b[34m--p-no-parameter-tuning\u001b[0m\n",
      "                       Automatically tune hyperparameters using random grid\n",
      "                       search.                                \u001b[35m[default: False]\u001b[0m\n",
      "  \u001b[34m--p-missing-samples\u001b[0m TEXT \u001b[32mChoices('error', 'ignore')\u001b[0m\n",
      "                       How to handle missing samples in metadata. \"error\"\n",
      "                       will fail if missing samples are detected. \"ignore\"\n",
      "                       will cause the feature table and metadata to be\n",
      "                       filtered, so that only samples found in both files are\n",
      "                       retained.                            \u001b[35m[default: 'error']\u001b[0m\n",
      "\u001b[1mOutputs\u001b[0m:\n",
      "  \u001b[34m\u001b[4m--o-sample-estimator\u001b[0m ARTIFACT \u001b[32mSampleEstimator[Regressor]\u001b[0m\n",
      "                       Trained sample estimator.                    \u001b[35m[required]\u001b[0m\n",
      "  \u001b[34m\u001b[4m--o-feature-importance\u001b[0m ARTIFACT \u001b[32mFeatureData[Importance]\u001b[0m\n",
      "                       Importance of each input feature to model accuracy.\n",
      "                                                                    \u001b[35m[required]\u001b[0m\n",
      "  \u001b[34m\u001b[4m--o-predictions\u001b[0m ARTIFACT \u001b[32mSampleData[RegressorPredictions]\u001b[0m\n",
      "                       Predicted target values for each input sample.\n",
      "                                                                    \u001b[35m[required]\u001b[0m\n",
      "  \u001b[34m\u001b[4m--o-model-summary\u001b[0m VISUALIZATION\n",
      "                       Summarized parameter and (if enabled) feature\n",
      "                       selection information for the trained estimator.\n",
      "                                                                    \u001b[35m[required]\u001b[0m\n",
      "  \u001b[34m\u001b[4m--o-accuracy-results\u001b[0m VISUALIZATION\n",
      "                       Accuracy results visualization.              \u001b[35m[required]\u001b[0m\n",
      "\u001b[1mMiscellaneous\u001b[0m:\n",
      "  \u001b[34m--output-dir\u001b[0m PATH    Output unspecified results to a directory\n",
      "  \u001b[34m--verbose\u001b[0m / \u001b[34m--quiet\u001b[0m  Display verbose output to stdout and/or stderr during\n",
      "                       execution of this action. Or silence output if\n",
      "                       execution is successful (silence is golden).\n",
      "  \u001b[34m--citations\u001b[0m          Show citations and exit.\n",
      "  \u001b[34m--help\u001b[0m               Show this message and exit.\n",
      "\n",
      "\u001b[33m                  There were some problems with the command:                  \u001b[0m\n",
      "\u001b[31m\u001b[1m (1/7) Missing option \"--i-table\".\u001b[0m\u001b[0m\n",
      "\u001b[31m\u001b[1m (2/7) Missing option \"--m-metadata-file\".\u001b[0m\u001b[0m\n",
      "\u001b[31m\u001b[1m (3/7) Missing option \"--o-sample-estimator\".  (\"--output-dir\" may also be\n",
      "  used)\u001b[0m\u001b[0m\n",
      "\u001b[31m\u001b[1m (4/7) Missing option \"--o-feature-importance\".  (\"--output-dir\" may also be\n",
      "  used)\u001b[0m\u001b[0m\n",
      "\u001b[31m\u001b[1m (5/7) Missing option \"--o-predictions\".  (\"--output-dir\" may also be used)\u001b[0m\u001b[0m\n",
      "\u001b[31m\u001b[1m (6/7) Missing option \"--o-model-summary\".  (\"--output-dir\" may also be used)\u001b[0m\u001b[0m\n",
      "\u001b[31m\u001b[1m (7/7) Missing option \"--o-accuracy-results\".  (\"--output-dir\" may also be\n",
      "  used)\u001b[0m\u001b[0m\n"
     ]
    }
   ],
   "source": [
    "! qiime sample-classifier regress-samples"
   ]
  },
  {
   "cell_type": "code",
   "execution_count": 1016,
   "metadata": {},
   "outputs": [
    {
     "name": "stdout",
     "output_type": "stream",
     "text": [
      "/Users/huangshi/anaconda3/envs/qiime2-2019.7/lib/python3.6/site-packages/tensorflow/python/framework/dtypes.py:526: FutureWarning: Passing (type, 1) or '1type' as a synonym of type is deprecated; in a future version of numpy, it will be understood as (type, (1,)) / '(1,)type'.\n",
      "  _np_qint8 = np.dtype([(\"qint8\", np.int8, 1)])\n",
      "/Users/huangshi/anaconda3/envs/qiime2-2019.7/lib/python3.6/site-packages/tensorflow/python/framework/dtypes.py:527: FutureWarning: Passing (type, 1) or '1type' as a synonym of type is deprecated; in a future version of numpy, it will be understood as (type, (1,)) / '(1,)type'.\n",
      "  _np_quint8 = np.dtype([(\"quint8\", np.uint8, 1)])\n",
      "/Users/huangshi/anaconda3/envs/qiime2-2019.7/lib/python3.6/site-packages/tensorflow/python/framework/dtypes.py:528: FutureWarning: Passing (type, 1) or '1type' as a synonym of type is deprecated; in a future version of numpy, it will be understood as (type, (1,)) / '(1,)type'.\n",
      "  _np_qint16 = np.dtype([(\"qint16\", np.int16, 1)])\n",
      "/Users/huangshi/anaconda3/envs/qiime2-2019.7/lib/python3.6/site-packages/tensorflow/python/framework/dtypes.py:529: FutureWarning: Passing (type, 1) or '1type' as a synonym of type is deprecated; in a future version of numpy, it will be understood as (type, (1,)) / '(1,)type'.\n",
      "  _np_quint16 = np.dtype([(\"quint16\", np.uint16, 1)])\n",
      "/Users/huangshi/anaconda3/envs/qiime2-2019.7/lib/python3.6/site-packages/tensorflow/python/framework/dtypes.py:530: FutureWarning: Passing (type, 1) or '1type' as a synonym of type is deprecated; in a future version of numpy, it will be understood as (type, (1,)) / '(1,)type'.\n",
      "  _np_qint32 = np.dtype([(\"qint32\", np.int32, 1)])\n",
      "/Users/huangshi/anaconda3/envs/qiime2-2019.7/lib/python3.6/site-packages/tensorflow/python/framework/dtypes.py:535: FutureWarning: Passing (type, 1) or '1type' as a synonym of type is deprecated; in a future version of numpy, it will be understood as (type, (1,)) / '(1,)type'.\n",
      "  np_resource = np.dtype([(\"resource\", np.ubyte, 1)])\n",
      "\u001b[32mSaved SampleEstimator[Regressor] to: Output/gut_4434.regressor.qza\u001b[0m\n",
      "\u001b[32mSaved FeatureData[Importance] to: gut_4434.feature-importance.qza\u001b[0m\n"
     ]
    }
   ],
   "source": [
    "! qiime sample-classifier fit-regressor \\\n",
    "--i-table Input/gut_data/gut_4434.qza \\\n",
    "--m-metadata-file Input/gut_data/gut_4434_map.txt \\\n",
    "--p-cv 5\\\n",
    "--m-metadata-column age \\\n",
    "--p-n-jobs 4 \\\n",
    "--p-parameter-tuning True \\\n",
    "--o-sample-estimator Output/gut_4434.regressor.qza \\\n",
    "--o-feature-importance Output/gut_4434.feature-importance.qza"
   ]
  },
  {
   "cell_type": "code",
   "execution_count": 1043,
   "metadata": {},
   "outputs": [
    {
     "name": "stdout",
     "output_type": "stream",
     "text": [
      "/Users/huangshi/anaconda3/envs/qiime2-2019.7/lib/python3.6/site-packages/tensorflow/python/framework/dtypes.py:526: FutureWarning: Passing (type, 1) or '1type' as a synonym of type is deprecated; in a future version of numpy, it will be understood as (type, (1,)) / '(1,)type'.\n",
      "  _np_qint8 = np.dtype([(\"qint8\", np.int8, 1)])\n",
      "/Users/huangshi/anaconda3/envs/qiime2-2019.7/lib/python3.6/site-packages/tensorflow/python/framework/dtypes.py:527: FutureWarning: Passing (type, 1) or '1type' as a synonym of type is deprecated; in a future version of numpy, it will be understood as (type, (1,)) / '(1,)type'.\n",
      "  _np_quint8 = np.dtype([(\"quint8\", np.uint8, 1)])\n",
      "/Users/huangshi/anaconda3/envs/qiime2-2019.7/lib/python3.6/site-packages/tensorflow/python/framework/dtypes.py:528: FutureWarning: Passing (type, 1) or '1type' as a synonym of type is deprecated; in a future version of numpy, it will be understood as (type, (1,)) / '(1,)type'.\n",
      "  _np_qint16 = np.dtype([(\"qint16\", np.int16, 1)])\n",
      "/Users/huangshi/anaconda3/envs/qiime2-2019.7/lib/python3.6/site-packages/tensorflow/python/framework/dtypes.py:529: FutureWarning: Passing (type, 1) or '1type' as a synonym of type is deprecated; in a future version of numpy, it will be understood as (type, (1,)) / '(1,)type'.\n",
      "  _np_quint16 = np.dtype([(\"quint16\", np.uint16, 1)])\n",
      "/Users/huangshi/anaconda3/envs/qiime2-2019.7/lib/python3.6/site-packages/tensorflow/python/framework/dtypes.py:530: FutureWarning: Passing (type, 1) or '1type' as a synonym of type is deprecated; in a future version of numpy, it will be understood as (type, (1,)) / '(1,)type'.\n",
      "  _np_qint32 = np.dtype([(\"qint32\", np.int32, 1)])\n",
      "/Users/huangshi/anaconda3/envs/qiime2-2019.7/lib/python3.6/site-packages/tensorflow/python/framework/dtypes.py:535: FutureWarning: Passing (type, 1) or '1type' as a synonym of type is deprecated; in a future version of numpy, it will be understood as (type, (1,)) / '(1,)type'.\n",
      "  np_resource = np.dtype([(\"resource\", np.ubyte, 1)])\n",
      "\u001b[32mSaved SampleData[RegressorPredictions] to: gut_4434.regressor_prediction.qza\u001b[0m\n"
     ]
    }
   ],
   "source": [
    "! qiime sample-classifier predict-regression \\\n",
    "--i-table /Users/huangshi/MyProjects/CMI-IBM/age-prediction/Input/gut_data/gut_4434.qza \\\n",
    "--i-sample-estimator  /Users/huangshi/MyProjects/CMI-IBM/age-prediction/Qiime2_MicrobiomeAgePrediction/gut_4434.regressor.qza \\\n",
    "--o-predictions /Users/huangshi/MyProjects/CMI-IBM/age-prediction/Qiime2_MicrobiomeAgePrediction/gut_4434.regressor_prediction.qza"
   ]
  },
  {
   "cell_type": "code",
   "execution_count": 1045,
   "metadata": {},
   "outputs": [
    {
     "name": "stdout",
     "output_type": "stream",
     "text": [
      "/Users/huangshi/anaconda3/envs/qiime2-2019.7/lib/python3.6/site-packages/tensorflow/python/framework/dtypes.py:526: FutureWarning: Passing (type, 1) or '1type' as a synonym of type is deprecated; in a future version of numpy, it will be understood as (type, (1,)) / '(1,)type'.\n",
      "  _np_qint8 = np.dtype([(\"qint8\", np.int8, 1)])\n",
      "/Users/huangshi/anaconda3/envs/qiime2-2019.7/lib/python3.6/site-packages/tensorflow/python/framework/dtypes.py:527: FutureWarning: Passing (type, 1) or '1type' as a synonym of type is deprecated; in a future version of numpy, it will be understood as (type, (1,)) / '(1,)type'.\n",
      "  _np_quint8 = np.dtype([(\"quint8\", np.uint8, 1)])\n",
      "/Users/huangshi/anaconda3/envs/qiime2-2019.7/lib/python3.6/site-packages/tensorflow/python/framework/dtypes.py:528: FutureWarning: Passing (type, 1) or '1type' as a synonym of type is deprecated; in a future version of numpy, it will be understood as (type, (1,)) / '(1,)type'.\n",
      "  _np_qint16 = np.dtype([(\"qint16\", np.int16, 1)])\n",
      "/Users/huangshi/anaconda3/envs/qiime2-2019.7/lib/python3.6/site-packages/tensorflow/python/framework/dtypes.py:529: FutureWarning: Passing (type, 1) or '1type' as a synonym of type is deprecated; in a future version of numpy, it will be understood as (type, (1,)) / '(1,)type'.\n",
      "  _np_quint16 = np.dtype([(\"quint16\", np.uint16, 1)])\n",
      "/Users/huangshi/anaconda3/envs/qiime2-2019.7/lib/python3.6/site-packages/tensorflow/python/framework/dtypes.py:530: FutureWarning: Passing (type, 1) or '1type' as a synonym of type is deprecated; in a future version of numpy, it will be understood as (type, (1,)) / '(1,)type'.\n",
      "  _np_qint32 = np.dtype([(\"qint32\", np.int32, 1)])\n",
      "/Users/huangshi/anaconda3/envs/qiime2-2019.7/lib/python3.6/site-packages/tensorflow/python/framework/dtypes.py:535: FutureWarning: Passing (type, 1) or '1type' as a synonym of type is deprecated; in a future version of numpy, it will be understood as (type, (1,)) / '(1,)type'.\n",
      "  np_resource = np.dtype([(\"resource\", np.ubyte, 1)])\n",
      "\u001b[32mSaved Visualization to: gut_4434.scatter.qzv\u001b[0m\n"
     ]
    }
   ],
   "source": [
    "!qiime sample-classifier scatterplot \\\n",
    "  --i-predictions gut_4434.regressor_prediction.qza \\\n",
    "  --m-truth-file Input/gut_data/gut_4434_map.txt \\\n",
    "  --m-truth-column age \\\n",
    "  --o-visualization gut_4434.scatter.qzv"
   ]
  },
  {
   "cell_type": "code",
   "execution_count": 1046,
   "metadata": {},
   "outputs": [
    {
     "name": "stdout",
     "output_type": "stream",
     "text": [
      "/Users/huangshi/anaconda3/envs/qiime2-2019.7/lib/python3.6/site-packages/tensorflow/python/framework/dtypes.py:526: FutureWarning: Passing (type, 1) or '1type' as a synonym of type is deprecated; in a future version of numpy, it will be understood as (type, (1,)) / '(1,)type'.\n",
      "  _np_qint8 = np.dtype([(\"qint8\", np.int8, 1)])\n",
      "/Users/huangshi/anaconda3/envs/qiime2-2019.7/lib/python3.6/site-packages/tensorflow/python/framework/dtypes.py:527: FutureWarning: Passing (type, 1) or '1type' as a synonym of type is deprecated; in a future version of numpy, it will be understood as (type, (1,)) / '(1,)type'.\n",
      "  _np_quint8 = np.dtype([(\"quint8\", np.uint8, 1)])\n",
      "/Users/huangshi/anaconda3/envs/qiime2-2019.7/lib/python3.6/site-packages/tensorflow/python/framework/dtypes.py:528: FutureWarning: Passing (type, 1) or '1type' as a synonym of type is deprecated; in a future version of numpy, it will be understood as (type, (1,)) / '(1,)type'.\n",
      "  _np_qint16 = np.dtype([(\"qint16\", np.int16, 1)])\n",
      "/Users/huangshi/anaconda3/envs/qiime2-2019.7/lib/python3.6/site-packages/tensorflow/python/framework/dtypes.py:529: FutureWarning: Passing (type, 1) or '1type' as a synonym of type is deprecated; in a future version of numpy, it will be understood as (type, (1,)) / '(1,)type'.\n",
      "  _np_quint16 = np.dtype([(\"quint16\", np.uint16, 1)])\n",
      "/Users/huangshi/anaconda3/envs/qiime2-2019.7/lib/python3.6/site-packages/tensorflow/python/framework/dtypes.py:530: FutureWarning: Passing (type, 1) or '1type' as a synonym of type is deprecated; in a future version of numpy, it will be understood as (type, (1,)) / '(1,)type'.\n",
      "  _np_qint32 = np.dtype([(\"qint32\", np.int32, 1)])\n",
      "/Users/huangshi/anaconda3/envs/qiime2-2019.7/lib/python3.6/site-packages/tensorflow/python/framework/dtypes.py:535: FutureWarning: Passing (type, 1) or '1type' as a synonym of type is deprecated; in a future version of numpy, it will be understood as (type, (1,)) / '(1,)type'.\n",
      "  np_resource = np.dtype([(\"resource\", np.ubyte, 1)])\n",
      "\u001b[32mSaved SampleData[RegressorPredictions] to: gut_4434-SAGE.regressor_prediction.qza\u001b[0m\n"
     ]
    }
   ],
   "source": [
    "! qiime sample-classifier predict-regression \\\n",
    "--i-table /Users/huangshi/MyProjects/CMI-IBM/Datasets/SAGE/data/feature-table.padding_gut_4434.qza \\\n",
    "--i-sample-estimator  Output/gut_4434.regressor.qza \\\n",
    "--o-predictions gut_4434-SAGE.regressor_prediction.qza"
   ]
  },
  {
   "cell_type": "code",
   "execution_count": 1047,
   "metadata": {},
   "outputs": [
    {
     "name": "stdout",
     "output_type": "stream",
     "text": [
      "/Users/huangshi/anaconda3/envs/qiime2-2019.7/lib/python3.6/site-packages/tensorflow/python/framework/dtypes.py:526: FutureWarning: Passing (type, 1) or '1type' as a synonym of type is deprecated; in a future version of numpy, it will be understood as (type, (1,)) / '(1,)type'.\n",
      "  _np_qint8 = np.dtype([(\"qint8\", np.int8, 1)])\n",
      "/Users/huangshi/anaconda3/envs/qiime2-2019.7/lib/python3.6/site-packages/tensorflow/python/framework/dtypes.py:527: FutureWarning: Passing (type, 1) or '1type' as a synonym of type is deprecated; in a future version of numpy, it will be understood as (type, (1,)) / '(1,)type'.\n",
      "  _np_quint8 = np.dtype([(\"quint8\", np.uint8, 1)])\n",
      "/Users/huangshi/anaconda3/envs/qiime2-2019.7/lib/python3.6/site-packages/tensorflow/python/framework/dtypes.py:528: FutureWarning: Passing (type, 1) or '1type' as a synonym of type is deprecated; in a future version of numpy, it will be understood as (type, (1,)) / '(1,)type'.\n",
      "  _np_qint16 = np.dtype([(\"qint16\", np.int16, 1)])\n",
      "/Users/huangshi/anaconda3/envs/qiime2-2019.7/lib/python3.6/site-packages/tensorflow/python/framework/dtypes.py:529: FutureWarning: Passing (type, 1) or '1type' as a synonym of type is deprecated; in a future version of numpy, it will be understood as (type, (1,)) / '(1,)type'.\n",
      "  _np_quint16 = np.dtype([(\"quint16\", np.uint16, 1)])\n",
      "/Users/huangshi/anaconda3/envs/qiime2-2019.7/lib/python3.6/site-packages/tensorflow/python/framework/dtypes.py:530: FutureWarning: Passing (type, 1) or '1type' as a synonym of type is deprecated; in a future version of numpy, it will be understood as (type, (1,)) / '(1,)type'.\n",
      "  _np_qint32 = np.dtype([(\"qint32\", np.int32, 1)])\n",
      "/Users/huangshi/anaconda3/envs/qiime2-2019.7/lib/python3.6/site-packages/tensorflow/python/framework/dtypes.py:535: FutureWarning: Passing (type, 1) or '1type' as a synonym of type is deprecated; in a future version of numpy, it will be understood as (type, (1,)) / '(1,)type'.\n",
      "  np_resource = np.dtype([(\"resource\", np.ubyte, 1)])\n",
      "\u001b[32mSaved Visualization to: SAGE.scatter.qzv\u001b[0m\n"
     ]
    }
   ],
   "source": [
    "!qiime sample-classifier scatterplot \\\n",
    "  --i-predictions gut_4434-SAGE.regressor_prediction.qza \\\n",
    "  --m-truth-file /Users/huangshi/MyProjects/CMI-IBM/Datasets/SAGE/sample-metadata.tsv \\\n",
    "  --m-truth-column agevisit \\\n",
    "  --o-visualization SAGE.scatter.qzv"
   ]
  },
  {
   "cell_type": "code",
   "execution_count": null,
   "metadata": {},
   "outputs": [],
   "source": []
  },
  {
   "cell_type": "code",
   "execution_count": 1024,
   "metadata": {},
   "outputs": [],
   "source": [
    "gut_sklearn_regressor_q2 = q2.Artifact.load('Output/gut_4434.regressor.qza')"
   ]
  },
  {
   "cell_type": "code",
   "execution_count": 1042,
   "metadata": {},
   "outputs": [],
   "source": [
    "gut_sklearn_regressor_predictions= q2.Artifact.load('gut_4434.regressor_prediction.qza')"
   ]
  },
  {
   "cell_type": "code",
   "execution_count": null,
   "metadata": {},
   "outputs": [],
   "source": [
    "gut_sklearn_regressor_predictions.view(view_type='')"
   ]
  },
  {
   "cell_type": "code",
   "execution_count": 1026,
   "metadata": {},
   "outputs": [
    {
     "ename": "AttributeError",
     "evalue": "'Artifact' object has no attribute 'get_params'",
     "output_type": "error",
     "traceback": [
      "\u001b[0;31m---------------------------------------------------------------------------\u001b[0m",
      "\u001b[0;31mAttributeError\u001b[0m                            Traceback (most recent call last)",
      "\u001b[0;32m<ipython-input-1026-5d685868248e>\u001b[0m in \u001b[0;36m<module>\u001b[0;34m\u001b[0m\n\u001b[0;32m----> 1\u001b[0;31m \u001b[0mpredict_regression\u001b[0m\u001b[0;34m(\u001b[0m\u001b[0mtest_X_table_\u001b[0m\u001b[0;34m,\u001b[0m \u001b[0mgut_sklearn_regressor_q2\u001b[0m\u001b[0;34m)\u001b[0m\u001b[0;34m\u001b[0m\u001b[0;34m\u001b[0m\u001b[0m\n\u001b[0m",
      "\u001b[0;32m~/anaconda3/envs/qiime2-2019.7/lib/python3.6/site-packages/q2_sample_classifier/classify.py\u001b[0m in \u001b[0;36mpredict_regression\u001b[0;34m(table, sample_estimator, n_jobs)\u001b[0m\n\u001b[1;32m    289\u001b[0m     \u001b[0;31m# we only return the predictions, not the probabilities, which are empty\u001b[0m\u001b[0;34m\u001b[0m\u001b[0;34m\u001b[0m\u001b[0;34m\u001b[0m\u001b[0m\n\u001b[1;32m    290\u001b[0m     \u001b[0;31m# for regressors.\u001b[0m\u001b[0;34m\u001b[0m\u001b[0;34m\u001b[0m\u001b[0;34m\u001b[0m\u001b[0m\n\u001b[0;32m--> 291\u001b[0;31m     \u001b[0;32mreturn\u001b[0m \u001b[0mpredict_base\u001b[0m\u001b[0;34m(\u001b[0m\u001b[0mtable\u001b[0m\u001b[0;34m,\u001b[0m \u001b[0msample_estimator\u001b[0m\u001b[0;34m,\u001b[0m \u001b[0mn_jobs\u001b[0m\u001b[0;34m)\u001b[0m\u001b[0;34m[\u001b[0m\u001b[0;36m0\u001b[0m\u001b[0;34m]\u001b[0m\u001b[0;34m\u001b[0m\u001b[0;34m\u001b[0m\u001b[0m\n\u001b[0m\u001b[1;32m    292\u001b[0m \u001b[0;34m\u001b[0m\u001b[0m\n\u001b[1;32m    293\u001b[0m \u001b[0;34m\u001b[0m\u001b[0m\n",
      "\u001b[0;32m~/anaconda3/envs/qiime2-2019.7/lib/python3.6/site-packages/q2_sample_classifier/classify.py\u001b[0m in \u001b[0;36mpredict_base\u001b[0;34m(table, sample_estimator, n_jobs)\u001b[0m\n\u001b[1;32m    260\u001b[0m \u001b[0;34m\u001b[0m\u001b[0m\n\u001b[1;32m    261\u001b[0m     \u001b[0;31m# reset n_jobs if this is a valid parameter for the estimator\u001b[0m\u001b[0;34m\u001b[0m\u001b[0;34m\u001b[0m\u001b[0;34m\u001b[0m\u001b[0m\n\u001b[0;32m--> 262\u001b[0;31m     \u001b[0;32mif\u001b[0m \u001b[0;34m'est__n_jobs'\u001b[0m \u001b[0;32min\u001b[0m \u001b[0msample_estimator\u001b[0m\u001b[0;34m.\u001b[0m\u001b[0mget_params\u001b[0m\u001b[0;34m(\u001b[0m\u001b[0;34m)\u001b[0m\u001b[0;34m.\u001b[0m\u001b[0mkeys\u001b[0m\u001b[0;34m(\u001b[0m\u001b[0;34m)\u001b[0m\u001b[0;34m:\u001b[0m\u001b[0;34m\u001b[0m\u001b[0;34m\u001b[0m\u001b[0m\n\u001b[0m\u001b[1;32m    263\u001b[0m         \u001b[0msample_estimator\u001b[0m\u001b[0;34m.\u001b[0m\u001b[0mset_params\u001b[0m\u001b[0;34m(\u001b[0m\u001b[0mest__n_jobs\u001b[0m\u001b[0;34m=\u001b[0m\u001b[0mn_jobs\u001b[0m\u001b[0;34m)\u001b[0m\u001b[0;34m\u001b[0m\u001b[0;34m\u001b[0m\u001b[0m\n\u001b[1;32m    264\u001b[0m \u001b[0;34m\u001b[0m\u001b[0m\n",
      "\u001b[0;31mAttributeError\u001b[0m: 'Artifact' object has no attribute 'get_params'"
     ]
    }
   ],
   "source": [
    "predict_regression(test_X_table_, gut_sklearn_regressor_q2)"
   ]
  }
 ],
 "metadata": {
  "kernelspec": {
   "display_name": "Python [conda env:qiime2-2019.7]",
   "language": "python",
   "name": "conda-env-qiime2-2019.7-py"
  },
  "language_info": {
   "codemirror_mode": {
    "name": "ipython",
    "version": 3
   },
   "file_extension": ".py",
   "mimetype": "text/x-python",
   "name": "python",
   "nbconvert_exporter": "python",
   "pygments_lexer": "ipython3",
   "version": "3.6.7"
  }
 },
 "nbformat": 4,
 "nbformat_minor": 4
}
