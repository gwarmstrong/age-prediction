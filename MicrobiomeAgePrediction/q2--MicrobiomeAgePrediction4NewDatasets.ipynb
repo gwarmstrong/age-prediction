{
 "cells": [
  {
   "cell_type": "markdown",
   "metadata": {},
   "source": [
    "# Microbiome age prediction in the new datasets\n",
    "### May 2020\n",
    "## Motivation \n",
    "We published the age-prediction models on **healthy** gut, oral and skin microbiomes using Random Forest regression analyses.\n",
    "This jupyter notebook attempted to apply our microbiome age models to new datasets using Q2 API and potentially link the microbiome age to more phenotypes.\n",
    "\n",
    "### Reference\n",
    "Huang S, Haiminen N, Carrieri A-P, Hu R, Jiang L, Parida L, Russell B, Allaband C, Zarrinpar A, Vázquez-Baeza Y, Belda-Ferre P, Zhou H, Kim H-C, Swafford AD, Knight R, Xu ZZ. 2020. Human skin, oral, and gut microbiomes predict chronological age. mSystems 5:e00630-19. https://doi.org/10.1128/mSystems.00630-19.\n",
    "\n",
    "### Qiita study IDs involved in the trained model: \n",
    "* Gut microbiota:\n",
    "\n",
    "| QIITA Study ID | EBI accession ID | Project name | Publication(s) | # of samples involved |\n",
    "| ------------------ | ------------------ | ------------------ |------------------ | ------------------ |\n",
    "|[10317](https://qiita.ucsd.edu/study/description/10317)| ERP012803 | American Gut Project | [American Gut: an Open Platform for Citizen Science Microbiome Research](https://msystems.asm.org/content/3/3/e00031-18) | 2770 |\n",
    "|[11757](https://qiita.ucsd.edu/study/description/11757)| PRJEB18535 | GGMP regional variation | [Regional variation greatly limits application of healthy gut microbiome reference ranges and disease models](https://www.nature.com/articles/s41591-018-0164-x)| 1609 |\n",
    "\n",
    "\n",
    "## About the implementation\n",
    "We re-trained the microbiome-age model using `q2-sample-classifer` which generated a Q2 artifact `SampleEstimator[Regressor]` for your applications. "
   ]
  },
  {
   "cell_type": "code",
   "execution_count": null,
   "metadata": {},
   "outputs": [],
   "source": [
    "import numpy as np\n",
    "import pandas as pd\n",
    "import qiime2 as q2\n",
    "from biom import Table\n",
    "from qiime2 import Artifact\n",
    "from sklearn.pipeline import Pipeline\n",
    "from sklearn.metrics import mean_squared_error, mean_absolute_error, r2_score\n",
    "from qiime2.plugins.sample_classifier.actions import predict_regression, regress_samples, scatterplot"
   ]
  },
  {
   "cell_type": "markdown",
   "metadata": {},
   "source": [
    "## Input the test data table and metadata"
   ]
  },
  {
   "cell_type": "code",
   "execution_count": null,
   "metadata": {},
   "outputs": [],
   "source": [
    "test_data_fp='Test_data/CIAO/100nt/78846_feature-table.qza'\n",
    "test_sample_md_fp = 'Test_data/CIAO/metadata_192.tsv'\n",
    "test_prefix='CIAO'\n",
    "test_target_field = 'agevisit'\n",
    "OUTDIR='Test_data/CIAO/'"
   ]
  },
  {
   "cell_type": "code",
   "execution_count": null,
   "metadata": {},
   "outputs": [],
   "source": [
    "test_X = q2.Artifact.load(test_data_fp).view(pd.DataFrame)\n",
    "test_X_q2 = q2.Artifact.load(test_data_fp)"
   ]
  },
  {
   "cell_type": "code",
   "execution_count": null,
   "metadata": {},
   "outputs": [],
   "source": [
    "test_metadata=pd.read_csv(test_sample_md_fp, sep='\\t', index_col=0)\n",
    "test_y=test_metadata[test_target_field]\n",
    "test_metadata_q2=q2.Metadata(test_metadata)\n",
    "test_y_q2=test_metadata_q2.get_column(test_target_field)"
   ]
  },
  {
   "cell_type": "markdown",
   "metadata": {},
   "source": [
    "## Input the train data table, metadata, and a prebuilt Q2 RandomForestRegressor"
   ]
  },
  {
   "cell_type": "code",
   "execution_count": null,
   "metadata": {},
   "outputs": [],
   "source": [
    "train_data_fp= 'Train_data/16S-100nt-gut_4434/gut_4434.qza' #'Train_data/shotgun-gotu-Finrisk/gotu.shared.feature-table.qza' \n",
    "train_sample_md_fp= 'Train_data/16S-100nt-gut_4434/gut_4434_map.txt'#'Train_data/shotgun-gotu-Finrisk/gotu.shared.metadata.txt'\n",
    "train_target_field= 'age' #'FIBER_TOTAL' \n",
    "retrain=False\n",
    "trained_model_fp='Regressor/16S-100nt-gut_4434/' #'Regressor/shotgun-gotu-Finrisk-FIBER_TOTAL-ht/' \n"
   ]
  },
  {
   "cell_type": "code",
   "execution_count": null,
   "metadata": {},
   "outputs": [],
   "source": [
    "! mkdir trained_model_fp"
   ]
  },
  {
   "cell_type": "code",
   "execution_count": null,
   "metadata": {},
   "outputs": [],
   "source": [
    "train_X_q2 = q2.Artifact.load(train_data_fp)"
   ]
  },
  {
   "cell_type": "code",
   "execution_count": null,
   "metadata": {},
   "outputs": [],
   "source": [
    "train_metadata=pd.read_csv(train_sample_md_fp, sep='\\t', index_col=0)\n",
    "train_y=train_metadata[train_target_field]\n",
    "train_metadata_q2=q2.Metadata(train_metadata)\n",
    "train_y_q2=train_metadata_q2.get_column(train_target_field)"
   ]
  },
  {
   "cell_type": "markdown",
   "metadata": {},
   "source": [
    "## Load the Q2 RandomForestRegressor\n",
    "### Option 1: load the pre-built model \n",
    "### Option 2: re-train the model using the train data table using `regress-samples`"
   ]
  },
  {
   "cell_type": "code",
   "execution_count": null,
   "metadata": {},
   "outputs": [],
   "source": [
    "if retrain==True:\n",
    "    out=regress_samples(train_X_q2, train_y_q2, cv=5, n_jobs=8, n_estimators=500, parameter_tuning=False)\n",
    "    trained_model_q2=out.sample_estimator\n",
    "    out.sample_estimator.save(trained_model_fp+'sample_estimator.qza')\n",
    "    out.feature_importance.save(trained_model_fp+'feature_importance.qza')\n",
    "    out.predictions.save(trained_model_fp+'predictions.qza')\n",
    "    out.model_summary.save(trained_model_fp+'model_summary.qzv')\n",
    "    out.accuracy_results.save(trained_model_fp+'accuracy_results.qzv')\n",
    "\n",
    "else:\n",
    "    trained_model_q2=q2.Artifact.load(trained_model_fp+'sample_estimator.qza')"
   ]
  },
  {
   "cell_type": "markdown",
   "metadata": {},
   "source": [
    "### You can view the model performance based on the outputs from `q2-sample-classifier`"
   ]
  },
  {
   "cell_type": "markdown",
   "metadata": {},
   "source": [
    "## The essential preprocessing steps for the test table"
   ]
  },
  {
   "cell_type": "markdown",
   "metadata": {},
   "source": [
    "## (1) The normalization of the ASV feature format\n",
    "### Problem:\n",
    "The train data only contains 100-nt sequence features.\n",
    "\n",
    "For example, the test data contains 150-nt sequence features or others, which will prevent this data from microbiome age prediction based on the train data.\n",
    "### Solution: \n",
    "We will truncate the 150-nt sequences into 100 nt ones and collapse all counts of identical ASVs after this step."
   ]
  },
  {
   "cell_type": "code",
   "execution_count": null,
   "metadata": {},
   "outputs": [],
   "source": [
    "def trim_asvs_to_length(test_data, start=0, end=100):\n",
    "    '''\n",
    "    Parameters\n",
    "    -------\n",
    "        x: str\n",
    "        The file path specify a qza file that contains sequence-like features in the columns\n",
    "    Return\n",
    "    -------\n",
    "        x_dedup: q2 artifact \n",
    "        A table that contain sequence-like features with desired length\n",
    "    Examples\n",
    "    -------\n",
    "    x=pd.DataFrame({'atcttc':[1, 3, 1, 3], 'ttcttc':[1, 3, 3, 1], \n",
    "                    'aatttc':[2, 5, 3, 1], 'ttcttc':[2, 5, 3, 1],\n",
    "                    'aattcc':[2, 5, 3, 1], 'aatatc':[2, 0, 0, 1]})\n",
    "\n",
    "    '''\n",
    "    x=test_data.view(pd.DataFrame)\n",
    "    ids=x.columns.tolist()\n",
    "    all_length_equal_to_100=all([len(i)==100 for i in ids])\n",
    "    if(all_length_equal_to_100):\n",
    "        x_dedup=x\n",
    "    else:            \n",
    "        new_ids=[i[start:end] for i in ids]\n",
    "        x.columns=new_ids\n",
    "        def checkIfDuplicates(listOfElems):\n",
    "            ''' Check if given list contains any duplicates '''\n",
    "            if len(listOfElems) == len(set(listOfElems)):\n",
    "                return False\n",
    "            else:\n",
    "                return True\n",
    "        if(checkIfDuplicates(new_ids)):\n",
    "            x_dedup=x.sum(axis=1, level=0)\n",
    "        else:\n",
    "            x_dedup=x\n",
    "    x_dedup_qza=q2.Artifact.import_data('FeatureTable[Frequency]', x_dedup)\n",
    "\n",
    "    return x_dedup_qza"
   ]
  },
  {
   "cell_type": "code",
   "execution_count": null,
   "metadata": {},
   "outputs": [],
   "source": [
    "test_X_q2=trim_asvs_to_length(test_X_q2)"
   ]
  },
  {
   "cell_type": "markdown",
   "metadata": {},
   "source": [
    "## (2) The alignment of the ASV features from the train and test datasets\n",
    "### Problem:\n",
    "The test data usually will not have a identical set of ASV features as that in the train data. \n",
    "### Solution: \n",
    "We will only keep the test features consistent with those in the train data, and pad other train features with zeros in the test table to ensure the test table has the same columns with train data finally."
   ]
  },
  {
   "cell_type": "code",
   "execution_count": null,
   "metadata": {},
   "outputs": [],
   "source": [
    "def pad_features_by_qza(train_data, test_data):\n",
    "    '''\n",
    "    Parameters\n",
    "    ----------\n",
    "    train_datafile : Q2 feature-table artifact i.e. 'FeatureTable[Frequency]'\n",
    "        The train data table, \n",
    "    test_datafile : Q2 feature-table artifact i.e. 'FeatureTable[Frequency]'\n",
    "        The test data table, \n",
    "    Returns\n",
    "    -------\n",
    "    new_b_qza: 'FeatureTable[Frequency]'\n",
    "        A updated test data table with equal number of\n",
    "        feature as the train table.\n",
    "    '''\n",
    "    a=train_data.view(pd.DataFrame)\n",
    "    b=test_data.view(pd.DataFrame)\n",
    "    a_feature_ids=a.columns.values.tolist()\n",
    "    b_feature_ids=b.columns.values.tolist()\n",
    "    print(\"The # of features in the train data: \", len(a_feature_ids))\n",
    "    print(\"The # of features in the original test data: \", len(b_feature_ids))\n",
    "    a_uniq_f=list(set(a_feature_ids)-set(b_feature_ids))\n",
    "    ab_shared_f=set(a_feature_ids).intersection(set(b_feature_ids))\n",
    "    print(\"The # of features with all zeros in the new test data: \", len(a_uniq_f))\n",
    "    print(\"The # of shared features kept in the new test data: \", len(ab_shared_f))\n",
    "    b_padding_matrix = pd.DataFrame(0, index=b.index, columns=a_uniq_f)\n",
    "    new_b=pd.concat([b[ab_shared_f], b_padding_matrix], axis=1)\n",
    "    new_b=new_b[a_feature_ids]    \n",
    "    print(\"The shape of new test data: \", new_b.shape)\n",
    "    new_b_qza=q2.Artifact.import_data('FeatureTable[Frequency]', new_b)\n",
    "    return new_b_qza\n"
   ]
  },
  {
   "cell_type": "markdown",
   "metadata": {},
   "source": [
    "## Align features in the test dataset with those in the train data"
   ]
  },
  {
   "cell_type": "code",
   "execution_count": null,
   "metadata": {
    "scrolled": true
   },
   "outputs": [],
   "source": [
    "test_X_padding_qza=pad_features_by_qza(train_X_q2, test_X_q2)"
   ]
  },
  {
   "cell_type": "markdown",
   "metadata": {},
   "source": [
    "##  Microbiome age prediction using `predict_regression`"
   ]
  },
  {
   "cell_type": "code",
   "execution_count": null,
   "metadata": {},
   "outputs": [],
   "source": [
    "predictions=predict_regression(test_X_padding_qza, trained_model_q2).predictions\n",
    "predictions.save(OUTDIR+'test_predictions.qza')"
   ]
  },
  {
   "cell_type": "code",
   "execution_count": null,
   "metadata": {},
   "outputs": [],
   "source": [
    "test_pred_df=predictions.view(pd.Series)"
   ]
  },
  {
   "cell_type": "code",
   "execution_count": null,
   "metadata": {},
   "outputs": [],
   "source": [
    "result = pd.concat([test_metadata, test_pred_df], axis=1, sort=False)\n",
    "result.to_csv(OUTDIR+'test_predictions_metadata.tsv',sep='\\t')"
   ]
  },
  {
   "cell_type": "code",
   "execution_count": null,
   "metadata": {},
   "outputs": [],
   "source": []
  }
 ],
 "metadata": {
  "kernelspec": {
   "display_name": "Python [conda env:qiime2-2019.7]",
   "language": "python",
   "name": "conda-env-qiime2-2019.7-py"
  },
  "language_info": {
   "codemirror_mode": {
    "name": "ipython",
    "version": 3
   },
   "file_extension": ".py",
   "mimetype": "text/x-python",
   "name": "python",
   "nbconvert_exporter": "python",
   "pygments_lexer": "ipython3",
   "version": "3.6.7"
  }
 },
 "nbformat": 4,
 "nbformat_minor": 4
}
