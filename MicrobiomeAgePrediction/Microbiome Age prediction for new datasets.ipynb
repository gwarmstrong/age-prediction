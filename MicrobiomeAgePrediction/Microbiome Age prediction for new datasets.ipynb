{
 "cells": [
  {
   "cell_type": "code",
   "execution_count": 1,
   "metadata": {},
   "outputs": [
    {
     "name": "stderr",
     "output_type": "stream",
     "text": [
      "/Users/huangshi/anaconda3/envs/qiime2-2019.7/lib/python3.6/site-packages/sklearn/externals/joblib/__init__.py:15: DeprecationWarning: sklearn.externals.joblib is deprecated in 0.21 and will be removed in 0.23. Please import this functionality directly from joblib, which can be installed with: pip install joblib. If this warning is raised when loading pickled models, you may need to re-serialize those models with scikit-learn 0.21+.\n",
      "  warnings.warn(msg, category=DeprecationWarning)\n"
     ]
    }
   ],
   "source": [
    "import numpy as np\n",
    "import pandas as pd\n",
    "import biom\n",
    "import qiime2 as q2\n",
    "import q2_sample_classifier\n",
    "import pickle\n",
    "from qiime2 import Artifact\n",
    "from sklearn.pipeline import Pipeline\n",
    "from sklearn.model_selection import StratifiedKFold\n",
    "from sklearn.model_selection import GroupKFold\n",
    "from sklearn.metrics import mean_squared_error\n",
    "from sklearn.metrics import mean_absolute_error\n",
    "from sklearn.metrics import r2_score\n",
    "from sklearn.externals import joblib\n",
    "from scipy.sparse import *\n",
    "from sklearn.ensemble import RandomForestRegressor\n",
    "from sklearn.ensemble import RandomForestClassifier"
   ]
  },
  {
   "cell_type": "code",
   "execution_count": 8,
   "metadata": {},
   "outputs": [
    {
     "name": "stdout",
     "output_type": "stream",
     "text": [
      "/Users/huangshi/MyProjects/CMI-IBM/age-prediction/MicrobiomeAgePrediction\r\n"
     ]
    }
   ],
   "source": [
    "!pwd"
   ]
  },
  {
   "cell_type": "markdown",
   "metadata": {},
   "source": [
    "## Input train data"
   ]
  },
  {
   "cell_type": "code",
   "execution_count": 2,
   "metadata": {},
   "outputs": [],
   "source": [
    "train_datafile='/Users/huangshi/MyProjects/CMI-IBM/age-prediction/Input/gut_data/gut_4434.biom'\n",
    "train_sample_metadata='/Users/huangshi/MyProjects/CMI-IBM/age-prediction/Input/gut_data/gut_4434_map.txt'\n",
    "train_feature_metadata=''\n",
    "train_target_field='age'\n",
    "train_prefix='AGP'"
   ]
  },
  {
   "cell_type": "markdown",
   "metadata": {},
   "source": [
    "## Input test data"
   ]
  },
  {
   "cell_type": "code",
   "execution_count": 10,
   "metadata": {},
   "outputs": [],
   "source": [
    "test_datafile='CIAO_dataset/100nt/78846_reference-hit.biom' #gut_4575_rare_sp.csv\n",
    "test_sample_metadata = 'CIAO_dataset/12685_prep_7611_qiime_20190916-125640.txt' #'10283_20191126-092828.txt'\n",
    "test_feature_metadata='' \n",
    "test_prefix='CIAO'\n",
    "test_target_field = 'agevisit' #"
   ]
  },
  {
   "cell_type": "code",
   "execution_count": 11,
   "metadata": {},
   "outputs": [],
   "source": [
    "train_table=biom.load_table(train_datafile)\n",
    "train_metadata=pd.read_csv(train_sample_metadata, sep='\\t')"
   ]
  },
  {
   "cell_type": "code",
   "execution_count": 12,
   "metadata": {},
   "outputs": [],
   "source": [
    "test_table=biom.load_table(test_datafile)\n",
    "test_metadata=pd.read_csv(test_sample_metadata, sep='\\t')"
   ]
  },
  {
   "cell_type": "code",
   "execution_count": 13,
   "metadata": {},
   "outputs": [],
   "source": [
    "train_df=train_table.to_dataframe(dense=False)"
   ]
  },
  {
   "cell_type": "code",
   "execution_count": 14,
   "metadata": {},
   "outputs": [],
   "source": [
    "test_df=test_table.to_dataframe(dense=False)"
   ]
  },
  {
   "cell_type": "code",
   "execution_count": 15,
   "metadata": {},
   "outputs": [
    {
     "data": {
      "text/plain": [
       "(4434, 65694)"
      ]
     },
     "execution_count": 15,
     "metadata": {},
     "output_type": "execute_result"
    }
   ],
   "source": [
    "train_X=train_df.T\n",
    "train_X.shape"
   ]
  },
  {
   "cell_type": "code",
   "execution_count": 16,
   "metadata": {},
   "outputs": [
    {
     "data": {
      "text/plain": [
       "(152, 4151)"
      ]
     },
     "execution_count": 16,
     "metadata": {},
     "output_type": "execute_result"
    }
   ],
   "source": [
    "test_X=test_df.T\n",
    "test_X.shape"
   ]
  },
  {
   "cell_type": "code",
   "execution_count": 17,
   "metadata": {},
   "outputs": [],
   "source": [
    "train_y=train_metadata[train_target_field]"
   ]
  },
  {
   "cell_type": "code",
   "execution_count": 18,
   "metadata": {},
   "outputs": [],
   "source": [
    "test_y=test_metadata[test_target_field]"
   ]
  },
  {
   "cell_type": "code",
   "execution_count": 19,
   "metadata": {},
   "outputs": [
    {
     "data": {
      "text/plain": [
       "Pipeline(memory=None,\n",
       "         steps=[('egr',\n",
       "                 RandomForestRegressor(bootstrap=True, criterion='mse',\n",
       "                                       max_depth=2, max_features='auto',\n",
       "                                       max_leaf_nodes=None,\n",
       "                                       min_impurity_decrease=0.0,\n",
       "                                       min_impurity_split=None,\n",
       "                                       min_samples_leaf=1, min_samples_split=2,\n",
       "                                       min_weight_fraction_leaf=0.0,\n",
       "                                       n_estimators=500, n_jobs=4,\n",
       "                                       oob_score=False, random_state=0,\n",
       "                                       verbose=0, warm_start=False))],\n",
       "         verbose=False)"
      ]
     },
     "execution_count": 19,
     "metadata": {},
     "output_type": "execute_result"
    }
   ],
   "source": [
    "pipe = Pipeline([('egr', RandomForestRegressor(max_depth=2, random_state=123, n_estimators=500, n_jobs=4))])\n",
    "pipe.fit(train_X, train_y)"
   ]
  },
  {
   "cell_type": "code",
   "execution_count": 21,
   "metadata": {},
   "outputs": [],
   "source": [
    "pred_y=pipe.predict(train_X)"
   ]
  },
  {
   "cell_type": "code",
   "execution_count": 22,
   "metadata": {},
   "outputs": [
    {
     "name": "stdout",
     "output_type": "stream",
     "text": [
      "R-squared:  0.019028518323003674\n",
      "MSE:  223.78499305980282\n",
      "RMSE:  14.959444944910317\n",
      "MAE:  12.650015515968576\n"
     ]
    }
   ],
   "source": [
    "R_squared=r2_score(train_y, pred_y)\n",
    "mse=mean_squared_error(train_y, pred_y)\n",
    "rmse=np.sqrt(mse)\n",
    "mae=mean_absolute_error(train_y, pred_y)\n",
    "print('R-squared: ', R_squared)\n",
    "print('MSE: ', mse)\n",
    "print('RMSE: ', rmse)\n",
    "print('MAE: ', mae)"
   ]
  },
  {
   "cell_type": "code",
   "execution_count": 35,
   "metadata": {},
   "outputs": [
    {
     "data": {
      "text/plain": [
       "{'memory': None,\n",
       " 'steps': [('egr',\n",
       "   RandomForestRegressor(bootstrap=True, criterion='mse', max_depth=2,\n",
       "                         max_features='auto', max_leaf_nodes=None,\n",
       "                         min_impurity_decrease=0.0, min_impurity_split=None,\n",
       "                         min_samples_leaf=1, min_samples_split=2,\n",
       "                         min_weight_fraction_leaf=0.0, n_estimators=500, n_jobs=4,\n",
       "                         oob_score=False, random_state=0, verbose=0,\n",
       "                         warm_start=False))],\n",
       " 'verbose': False,\n",
       " 'egr': RandomForestRegressor(bootstrap=True, criterion='mse', max_depth=2,\n",
       "                       max_features='auto', max_leaf_nodes=None,\n",
       "                       min_impurity_decrease=0.0, min_impurity_split=None,\n",
       "                       min_samples_leaf=1, min_samples_split=2,\n",
       "                       min_weight_fraction_leaf=0.0, n_estimators=500, n_jobs=4,\n",
       "                       oob_score=False, random_state=0, verbose=0,\n",
       "                       warm_start=False),\n",
       " 'egr__bootstrap': True,\n",
       " 'egr__criterion': 'mse',\n",
       " 'egr__max_depth': 2,\n",
       " 'egr__max_features': 'auto',\n",
       " 'egr__max_leaf_nodes': None,\n",
       " 'egr__min_impurity_decrease': 0.0,\n",
       " 'egr__min_impurity_split': None,\n",
       " 'egr__min_samples_leaf': 1,\n",
       " 'egr__min_samples_split': 2,\n",
       " 'egr__min_weight_fraction_leaf': 0.0,\n",
       " 'egr__n_estimators': 500,\n",
       " 'egr__n_jobs': 4,\n",
       " 'egr__oob_score': False,\n",
       " 'egr__random_state': 0,\n",
       " 'egr__verbose': 0,\n",
       " 'egr__warm_start': False}"
      ]
     },
     "execution_count": 35,
     "metadata": {},
     "output_type": "execute_result"
    }
   ],
   "source": [
    "pipe.get_params()"
   ]
  },
  {
   "cell_type": "markdown",
   "metadata": {},
   "source": [
    "### Adding preprocessing steps for the test table"
   ]
  },
  {
   "cell_type": "markdown",
   "metadata": {},
   "source": [
    "### Q: the test data contains 150-nt sequence features while the train data contains 100-nt sequence features.\n",
    "### Solution: chop the 150-nt sequences into 100 nt ones"
   ]
  },
  {
   "cell_type": "code",
   "execution_count": 23,
   "metadata": {},
   "outputs": [],
   "source": [
    "def chop_seq_feature_to_nt(x, start=0, end=100):\n",
    "    '''\n",
    "    Parameters\n",
    "    -------\n",
    "        x: pd.DataFrame \n",
    "        A table that contains sequence-like features in the columns\n",
    "    Return\n",
    "    -------\n",
    "        x_dedup: pd.DataFrame\n",
    "        A table that contain sequence-like features with desired length\n",
    "    Examples\n",
    "    -------\n",
    "    x=pd.DataFrame({'atcttc':[1, 3, 1, 3], 'ttcttc':[1, 3, 3, 1], \n",
    "                    'aatttc':[2, 5, 3, 1], 'ttcttc':[2, 5, 3, 1],\n",
    "                    'aattcc':[2, 5, 3, 1], 'aatatc':[2, 0, 0, 1]})\n",
    "\n",
    "    '''\n",
    "    ids=x.columns.tolist()\n",
    "    new_ids=[i[start:end] for i in ids]\n",
    "    x.columns=new_ids\n",
    "    def checkIfDuplicates(listOfElems):\n",
    "        ''' Check if given list contains any duplicates '''\n",
    "        if len(listOfElems) == len(set(listOfElems)):\n",
    "            return False\n",
    "        else:\n",
    "            return True\n",
    "    if(checkIfDuplicates(new_ids)):\n",
    "        x_dedup=x.sum(axis=1, level=0)\n",
    "    else:\n",
    "        x_dedup=x\n",
    "    return x_dedup"
   ]
  },
  {
   "cell_type": "code",
   "execution_count": null,
   "metadata": {},
   "outputs": [],
   "source": []
  },
  {
   "cell_type": "code",
   "execution_count": null,
   "metadata": {},
   "outputs": [],
   "source": [
    "test_X=chop_seq_feature_to_nt(test_X, start=0, end=100)\n",
    "test_X.shape"
   ]
  },
  {
   "cell_type": "code",
   "execution_count": 25,
   "metadata": {},
   "outputs": [],
   "source": [
    "def union_feature_table(train_X, test_X):\n",
    "    '''\n",
    "    Parameters\n",
    "    ----------\n",
    "    train data : pd.DataFrame\n",
    "        train data table\n",
    "    test data : pd.DataFrame\n",
    "        test data table.\n",
    "    Returns\n",
    "    -------\n",
    "    pd.DataFrame\n",
    "        A padded test data table\n",
    "    Examples\n",
    "    -------\n",
    "    a=pd.DataFrame({'atc':[1, 3, 1, 3], 'ttc':[1, 3, 3, 1], 'aat':[2, 5, 3, 1], 'ttc':[2, 5, 3, 1]})\n",
    "    b=pd.DataFrame({'atc':[1, 3, 1, 0], 'tta':[0, 3, 1, 0], 'aaa':[2, 1, 3, 1]})\n",
    "    feature_padding(a, b)\n",
    "\n",
    "    '''\n",
    "    train_feature_ids=train_X.columns.values.tolist()\n",
    "    test_feature_ids=test_X.columns.values.tolist()\n",
    "    train_X_uniq_f=list(set(train_feature_ids)-set(test_feature_ids))\n",
    "    test_X_uniq_f=list(set(test_feature_ids)-set(train_feature_ids))\n",
    "    test_zero_matrix = np.zeros(shape=(test_X.shape[0], len(train_X_uniq_f)))\n",
    "    train_zero_matrix = np.zeros(shape=(train_X.shape[0], len(test_X_uniq_f)))\n",
    "    test_padding_matrix=pd.DataFrame(test_zero_matrix, columns = train_X_uniq_f)\n",
    "    train_padding_matrix=pd.DataFrame(train_zero_matrix, columns = test_X_uniq_f)\n",
    "\n",
    "    new_test_X=pd.concat([test_X, test_padding_matrix], axis=1).sort_index(axis=1)\n",
    "    new_train_X=pd.concat([train_X, train_padding_matrix], axis=1).sort_index(axis=1)\n",
    "    return new_test_X, new_train_X\n"
   ]
  },
  {
   "cell_type": "code",
   "execution_count": 26,
   "metadata": {},
   "outputs": [
    {
     "ename": "NameError",
     "evalue": "name 'a' is not defined",
     "output_type": "error",
     "traceback": [
      "\u001b[0;31m---------------------------------------------------------------------------\u001b[0m",
      "\u001b[0;31mNameError\u001b[0m                                 Traceback (most recent call last)",
      "\u001b[0;32m<ipython-input-26-b55f762db981>\u001b[0m in \u001b[0;36m<module>\u001b[0;34m\u001b[0m\n\u001b[0;32m----> 1\u001b[0;31m \u001b[0ma_\u001b[0m\u001b[0;34m,\u001b[0m \u001b[0mb_\u001b[0m \u001b[0;34m=\u001b[0m \u001b[0munion_feature_table\u001b[0m\u001b[0;34m(\u001b[0m\u001b[0ma\u001b[0m\u001b[0;34m,\u001b[0m \u001b[0mb\u001b[0m\u001b[0;34m)\u001b[0m\u001b[0;34m\u001b[0m\u001b[0;34m\u001b[0m\u001b[0m\n\u001b[0m\u001b[1;32m      2\u001b[0m \u001b[0mdisplay\u001b[0m\u001b[0;34m(\u001b[0m\u001b[0ma_\u001b[0m\u001b[0;34m,\u001b[0m \u001b[0mb_\u001b[0m\u001b[0;34m)\u001b[0m\u001b[0;34m\u001b[0m\u001b[0;34m\u001b[0m\u001b[0m\n",
      "\u001b[0;31mNameError\u001b[0m: name 'a' is not defined"
     ]
    }
   ],
   "source": [
    "a_, b_ = union_feature_table(a, b)\n",
    "display(a_, b_)"
   ]
  },
  {
   "cell_type": "code",
   "execution_count": 27,
   "metadata": {},
   "outputs": [],
   "source": [
    "def pad_feature(a, b):\n",
    "    '''\n",
    "    Parameters\n",
    "    ----------\n",
    "    a : pd.DataFrame\n",
    "        train data table\n",
    "    b : pd.DataFrame\n",
    "        test data table.\n",
    "    Returns\n",
    "    -------\n",
    "    pd.DataFrame\n",
    "        A test table with equal number of\n",
    "        feature as the train table.\n",
    "    Examples\n",
    "    -------\n",
    "    a=pd.DataFrame({'ttc':[1, 3, 1, 3], 'atc':[1, 3, 3, 1], 'aat':[2, 5, 3, 1], 'tac':[2, 5, 3, 1]})\n",
    "    b=pd.DataFrame({'atc':[1, 3, 1, 0], 'ttc':[0, 3, 1, 0], 'aaa':[2, 1, 3, 1]})\n",
    "    pad_feature(a, b)\n",
    "    \n",
    "    A\tB\tC\tR\n",
    "    0\t1\t0.0\t0.0\t0.0\n",
    "    1\t3\t0.0\t0.0\t0.0\n",
    "    2\t1\t0.0\t0.0\t0.0\n",
    "    3\t0\t0.0\t0.0\t0.0\n",
    "    \n",
    "    '''\n",
    "    print(\"The shape of train data: \", a.shape)\n",
    "    a_feature_ids=a.columns.values.tolist()\n",
    "    b_feature_ids=b.columns.values.tolist()\n",
    "    print(\"The number of features in the original test data: \", len(b_feature_ids))\n",
    "    a_uniq_f=list(set(a_feature_ids)-set(b_feature_ids))\n",
    "    ab_shared_f=set(a_feature_ids).intersection(set(b_feature_ids))\n",
    "    print(\"The number of features with all zeros in the new test data: \", len(a_uniq_f))\n",
    "    print(\"The number of shared features kept in the new test data: \", len(ab_shared_f))\n",
    "    b_padding_matrix = pd.DataFrame(0, index=b.index, columns=a_uniq_f)\n",
    "    new_b=pd.concat([b[ab_shared_f], b_padding_matrix], axis=1)\n",
    "    #print(new_b.shape)\n",
    "    new_b=new_b[a_feature_ids]\n",
    "    # only keep feature ids in the train table\n",
    "    \n",
    "    print(\"The shape of new test data: \", new_b.shape)\n",
    "    return new_b\n"
   ]
  },
  {
   "cell_type": "code",
   "execution_count": 28,
   "metadata": {},
   "outputs": [
    {
     "name": "stdout",
     "output_type": "stream",
     "text": [
      "The shape of train data:  (4, 4)\n",
      "The number of features in the original test data:  3\n",
      "The number of features with all zeros in the new test data:  2\n",
      "The number of shared features kept in the new test data:  2\n",
      "The shape of new test data:  (4, 4)\n"
     ]
    },
    {
     "data": {
      "text/html": [
       "<div>\n",
       "<style scoped>\n",
       "    .dataframe tbody tr th:only-of-type {\n",
       "        vertical-align: middle;\n",
       "    }\n",
       "\n",
       "    .dataframe tbody tr th {\n",
       "        vertical-align: top;\n",
       "    }\n",
       "\n",
       "    .dataframe thead th {\n",
       "        text-align: right;\n",
       "    }\n",
       "</style>\n",
       "<table border=\"1\" class=\"dataframe\">\n",
       "  <thead>\n",
       "    <tr style=\"text-align: right;\">\n",
       "      <th></th>\n",
       "      <th>ttc</th>\n",
       "      <th>atc</th>\n",
       "      <th>aat</th>\n",
       "      <th>tac</th>\n",
       "    </tr>\n",
       "  </thead>\n",
       "  <tbody>\n",
       "    <tr>\n",
       "      <th>0</th>\n",
       "      <td>0</td>\n",
       "      <td>1</td>\n",
       "      <td>0</td>\n",
       "      <td>0</td>\n",
       "    </tr>\n",
       "    <tr>\n",
       "      <th>1</th>\n",
       "      <td>3</td>\n",
       "      <td>3</td>\n",
       "      <td>0</td>\n",
       "      <td>0</td>\n",
       "    </tr>\n",
       "    <tr>\n",
       "      <th>2</th>\n",
       "      <td>1</td>\n",
       "      <td>1</td>\n",
       "      <td>0</td>\n",
       "      <td>0</td>\n",
       "    </tr>\n",
       "    <tr>\n",
       "      <th>3</th>\n",
       "      <td>0</td>\n",
       "      <td>0</td>\n",
       "      <td>0</td>\n",
       "      <td>0</td>\n",
       "    </tr>\n",
       "  </tbody>\n",
       "</table>\n",
       "</div>"
      ],
      "text/plain": [
       "   ttc  atc  aat  tac\n",
       "0    0    1    0    0\n",
       "1    3    3    0    0\n",
       "2    1    1    0    0\n",
       "3    0    0    0    0"
      ]
     },
     "execution_count": 28,
     "metadata": {},
     "output_type": "execute_result"
    }
   ],
   "source": [
    "a=pd.DataFrame({'ttc':[1, 3, 1, 3], 'atc':[1, 3, 3, 1], 'aat':[2, 5, 3, 1], 'tac':[2, 5, 3, 1]})\n",
    "b=pd.DataFrame({'atc':[1, 3, 1, 0], 'ttc':[0, 3, 1, 0], 'aaa':[2, 1, 3, 1]})\n",
    "b_=pad_feature(a, b)\n",
    "b_"
   ]
  },
  {
   "cell_type": "markdown",
   "metadata": {},
   "source": [
    "### age prediction on the test dataset after feature padding"
   ]
  },
  {
   "cell_type": "code",
   "execution_count": 29,
   "metadata": {},
   "outputs": [
    {
     "data": {
      "text/plain": [
       "(4434, 65694)"
      ]
     },
     "execution_count": 29,
     "metadata": {},
     "output_type": "execute_result"
    }
   ],
   "source": [
    "train_X.shape"
   ]
  },
  {
   "cell_type": "code",
   "execution_count": 30,
   "metadata": {},
   "outputs": [
    {
     "data": {
      "text/plain": [
       "(152, 4151)"
      ]
     },
     "execution_count": 30,
     "metadata": {},
     "output_type": "execute_result"
    }
   ],
   "source": [
    "test_X.shape"
   ]
  },
  {
   "cell_type": "code",
   "execution_count": 31,
   "metadata": {},
   "outputs": [
    {
     "name": "stdout",
     "output_type": "stream",
     "text": [
      "The shape of train data:  (4434, 65694)\n",
      "The number of features in the original test data:  4151\n",
      "The number of features with all zeros in the new test data:  63359\n",
      "The number of shared features kept in the new test data:  2335\n",
      "The shape of new test data:  (152, 65694)\n"
     ]
    }
   ],
   "source": [
    "test_X_=pad_feature(train_X, test_X)\n",
    "#test_X_=pd.SparseDataFrame(test_X_)"
   ]
  },
  {
   "cell_type": "code",
   "execution_count": 32,
   "metadata": {},
   "outputs": [
    {
     "data": {
      "text/plain": [
       "(152, 65694)"
      ]
     },
     "execution_count": 32,
     "metadata": {},
     "output_type": "execute_result"
    }
   ],
   "source": [
    "test_X_.shape"
   ]
  },
  {
   "cell_type": "code",
   "execution_count": 36,
   "metadata": {
    "scrolled": true
   },
   "outputs": [
    {
     "data": {
      "text/plain": [
       "array([47.53199267, 48.56609068, 47.18598594, 47.6678977 , 47.38379306,\n",
       "       47.11850387, 47.51542457, 47.18470607, 47.53199267, 48.26575407,\n",
       "       47.51040513, 47.52785307, 47.53199267, 47.51542457, 47.521985  ,\n",
       "       47.42821832, 46.90181035, 47.48856014, 46.97941631, 46.62406936,\n",
       "       47.27374523, 47.53199267, 47.521985  , 47.53199267, 47.59923509,\n",
       "       47.53199267, 47.53199267, 47.45338377, 47.37243854, 47.56214953,\n",
       "       47.57030654, 47.17498101, 46.99669383, 46.99386828, 47.49121714,\n",
       "       47.58454132, 47.51542457, 47.24239077, 47.07751603, 46.798596  ,\n",
       "       47.5785739 , 47.07460819, 47.34970254, 47.51542457, 47.36079774,\n",
       "       47.51128497, 47.49383703, 47.06954716, 46.47190978, 47.52949275,\n",
       "       47.51040513, 47.13520361, 47.53199267, 47.48727968, 47.55663262,\n",
       "       47.06699676, 47.86891084, 47.51040513, 47.46034604, 47.51542457,\n",
       "       47.51542457, 47.51542457, 47.51466164, 47.53199267, 47.38788951,\n",
       "       47.31375606, 47.29058064, 47.51040513, 47.51040513, 48.70736511,\n",
       "       47.66567943, 47.30483016, 47.53199267, 46.94899176, 47.52041624,\n",
       "       47.40368163, 47.52523657, 46.88982282, 47.64549159, 47.48507859,\n",
       "       47.4468647 , 48.48614584, 47.60429087, 47.45010445, 47.51040513,\n",
       "       47.16254231, 47.55587783, 46.84606808, 47.14791261, 47.32926253,\n",
       "       47.53199267, 47.0290877 , 47.25005221, 47.53435243, 47.022774  ,\n",
       "       47.83301227, 47.51040513, 46.91816389, 47.04415784, 47.35179713,\n",
       "       47.52041624, 47.50443185, 47.53199267, 47.10222492, 47.11039257,\n",
       "       47.27133835, 47.02009081, 47.53199267, 47.43571285, 47.02714317,\n",
       "       47.53199267, 47.51040513, 47.51542457, 47.24345809, 47.51542457,\n",
       "       48.61817691, 47.51542457, 47.28595115, 47.46995187, 47.52041624,\n",
       "       47.3962018 , 47.61481485, 47.03984495, 47.54488511, 47.53199267,\n",
       "       47.38060719, 46.98968427, 47.37098919, 47.43483157, 46.76683327,\n",
       "       46.89300666, 47.26397554, 47.11343609, 48.59193902, 47.53199267,\n",
       "       47.53446122, 46.90643873, 47.60440848, 47.51542457, 47.51040513,\n",
       "       47.18172269, 47.43483034, 47.53199267, 48.33162354, 47.51040856,\n",
       "       47.51542457, 47.23183429, 47.53786074, 47.57290486, 47.31173664,\n",
       "       47.34495675, 46.99195575])"
      ]
     },
     "execution_count": 36,
     "metadata": {},
     "output_type": "execute_result"
    }
   ],
   "source": [
    "y_pred = pipe.predict(test_X_)\n",
    "y_pred "
   ]
  },
  {
   "cell_type": "markdown",
   "metadata": {},
   "source": [
    "### qiime2"
   ]
  },
  {
   "cell_type": "code",
   "execution_count": 506,
   "metadata": {},
   "outputs": [],
   "source": [
    "import q2_sample_classifier"
   ]
  },
  {
   "cell_type": "code",
   "execution_count": 504,
   "metadata": {},
   "outputs": [
    {
     "name": "stdout",
     "output_type": "stream",
     "text": [
      "\u001b[32mSystem versions\u001b[0m\n",
      "Python version: 3.6.7\n",
      "QIIME 2 release: 2019.7\n",
      "QIIME 2 version: 2019.7.0\n",
      "q2cli version: 2019.7.0\n",
      "\u001b[32m\n",
      "Installed plugins\u001b[0m\n",
      "alignment: 2019.7.0\n",
      "breakaway: 0+untagged.71.g503723a\n",
      "composition: 2019.7.0\n",
      "cutadapt: 2019.7.0\n",
      "dada2: 2019.7.0\n",
      "deblur: 2019.7.0\n",
      "deicode: 0.2.4\n",
      "demux: 2019.7.0\n",
      "diversity: 2019.7.0\n",
      "emperor: 2019.7.0\n",
      "feature-classifier: 2019.7.0\n",
      "feature-table: 2019.7.0\n",
      "fragment-insertion: 2019.7.0\n",
      "gneiss: 2019.7.0\n",
      "longitudinal: 2019.7.0\n",
      "metadata: 2019.7.0\n",
      "mmvec: 1.0.0\n",
      "phylogeny: 2019.7.0\n",
      "quality-control: 2019.7.0\n",
      "quality-filter: 2019.7.0\n",
      "qurro: 0.4.0\n",
      "sample-classifier: 2019.7.1\n",
      "songbird: 0.9.0\n",
      "taxa: 2019.7.0\n",
      "types: 2019.7.0\n",
      "vsearch: 2019.7.0\n",
      "\u001b[32m\n",
      "Application config directory\u001b[0m\n",
      "/Users/huangshi/anaconda3/envs/qiime2-2019.7/var/q2cli\u001b[0m\n",
      "\u001b[32m\n",
      "Getting help\u001b[0m\n",
      "To get help with QIIME 2, visit https://qiime2.org\u001b[0m\n"
     ]
    }
   ],
   "source": [
    "! qiime info"
   ]
  },
  {
   "cell_type": "markdown",
   "metadata": {},
   "source": [
    "##  Microbiome age prediction using q2_sample_classifier.classify.predict_regression"
   ]
  },
  {
   "cell_type": "code",
   "execution_count": 1040,
   "metadata": {},
   "outputs": [
    {
     "name": "stdout",
     "output_type": "stream",
     "text": [
      "/Users/huangshi/anaconda3/envs/qiime2-2019.7/lib/python3.6/site-packages/tensorflow/python/framework/dtypes.py:526: FutureWarning: Passing (type, 1) or '1type' as a synonym of type is deprecated; in a future version of numpy, it will be understood as (type, (1,)) / '(1,)type'.\n",
      "  _np_qint8 = np.dtype([(\"qint8\", np.int8, 1)])\n",
      "/Users/huangshi/anaconda3/envs/qiime2-2019.7/lib/python3.6/site-packages/tensorflow/python/framework/dtypes.py:527: FutureWarning: Passing (type, 1) or '1type' as a synonym of type is deprecated; in a future version of numpy, it will be understood as (type, (1,)) / '(1,)type'.\n",
      "  _np_quint8 = np.dtype([(\"quint8\", np.uint8, 1)])\n",
      "/Users/huangshi/anaconda3/envs/qiime2-2019.7/lib/python3.6/site-packages/tensorflow/python/framework/dtypes.py:528: FutureWarning: Passing (type, 1) or '1type' as a synonym of type is deprecated; in a future version of numpy, it will be understood as (type, (1,)) / '(1,)type'.\n",
      "  _np_qint16 = np.dtype([(\"qint16\", np.int16, 1)])\n",
      "/Users/huangshi/anaconda3/envs/qiime2-2019.7/lib/python3.6/site-packages/tensorflow/python/framework/dtypes.py:529: FutureWarning: Passing (type, 1) or '1type' as a synonym of type is deprecated; in a future version of numpy, it will be understood as (type, (1,)) / '(1,)type'.\n",
      "  _np_quint16 = np.dtype([(\"quint16\", np.uint16, 1)])\n",
      "/Users/huangshi/anaconda3/envs/qiime2-2019.7/lib/python3.6/site-packages/tensorflow/python/framework/dtypes.py:530: FutureWarning: Passing (type, 1) or '1type' as a synonym of type is deprecated; in a future version of numpy, it will be understood as (type, (1,)) / '(1,)type'.\n",
      "  _np_qint32 = np.dtype([(\"qint32\", np.int32, 1)])\n",
      "/Users/huangshi/anaconda3/envs/qiime2-2019.7/lib/python3.6/site-packages/tensorflow/python/framework/dtypes.py:535: FutureWarning: Passing (type, 1) or '1type' as a synonym of type is deprecated; in a future version of numpy, it will be understood as (type, (1,)) / '(1,)type'.\n",
      "  np_resource = np.dtype([(\"resource\", np.ubyte, 1)])\n",
      "\u001b[32mImported /Users/huangshi/MyProjects/CMI-IBM/age-prediction/Input/gut_data/gut_4434.biom as BIOMV210DirFmt to /Users/huangshi/MyProjects/CMI-IBM/age-prediction/Input/gut_data/gut_4434.qza\u001b[0m\n"
     ]
    }
   ],
   "source": [
    "! qiime tools import \\\n",
    "--type 'FeatureTable[Frequency]'\\\n",
    "--input-path /Users/huangshi/MyProjects/CMI-IBM/age-prediction/Input/gut_data/gut_4434.biom \\\n",
    "--output-path /Users/huangshi/MyProjects/CMI-IBM/age-prediction/Input/gut_data/gut_4434.qza"
   ]
  },
  {
   "cell_type": "code",
   "execution_count": 91,
   "metadata": {},
   "outputs": [],
   "source": [
    "test_metadata_92=test_metadata[test_metadata['agevisit'] != 'not applicable']\n",
    "ids=test_metadata_92['#SampleID']\n",
    "test_metadata_92.to_csv('CIAO_dataset/metadata_92.tsv', sep='\\t', index=False)"
   ]
  },
  {
   "cell_type": "code",
   "execution_count": 81,
   "metadata": {},
   "outputs": [
    {
     "data": {
      "text/plain": [
       "65694 x 92 <class 'biom.table.Table'> with 18849 nonzero entries (0% dense)"
      ]
     },
     "execution_count": 81,
     "metadata": {},
     "output_type": "execute_result"
    }
   ],
   "source": [
    "test_X_table_ = biom.Table(test_X_.T.values, test_X_.columns, test_X_.index)\n",
    "test_X_table_.filter(ids, inplace=True)"
   ]
  },
  {
   "cell_type": "code",
   "execution_count": 83,
   "metadata": {},
   "outputs": [
    {
     "data": {
      "text/plain": [
       "'CIAO_dataset/100nt/feature-table.92.padding_gut_4434.qza'"
      ]
     },
     "execution_count": 83,
     "metadata": {},
     "output_type": "execute_result"
    }
   ],
   "source": [
    "q2_test_X_table_=q2.Artifact.import_data('FeatureTable[Frequency]', test_X_table_)\n",
    "q2_test_X_table_.save('CIAO_dataset/100nt/feature-table.92.padding_gut_4434.qza')"
   ]
  },
  {
   "cell_type": "code",
   "execution_count": 45,
   "metadata": {},
   "outputs": [
    {
     "name": "stdout",
     "output_type": "stream",
     "text": [
      "\u001b[34mCIAO_dataset\u001b[m\u001b[m\r\n",
      "\u001b[34mCIAO_predictions\u001b[m\u001b[m\r\n",
      "Microbiome Age prediction for new datasets.ipynb\r\n",
      "\u001b[34mRegressors\u001b[m\u001b[m\r\n"
     ]
    }
   ],
   "source": [
    "! cd /Users/huangshi/MyProjects/CMI-IBM/age-prediction/MicrobiomeAgePrediction\n",
    "\n",
    "! ls ."
   ]
  },
  {
   "cell_type": "code",
   "execution_count": 47,
   "metadata": {},
   "outputs": [
    {
     "name": "stdout",
     "output_type": "stream",
     "text": [
      "/Users/huangshi/anaconda3/envs/qiime2-2019.7/lib/python3.6/site-packages/tensorflow/python/framework/dtypes.py:526: FutureWarning: Passing (type, 1) or '1type' as a synonym of type is deprecated; in a future version of numpy, it will be understood as (type, (1,)) / '(1,)type'.\n",
      "  _np_qint8 = np.dtype([(\"qint8\", np.int8, 1)])\n",
      "/Users/huangshi/anaconda3/envs/qiime2-2019.7/lib/python3.6/site-packages/tensorflow/python/framework/dtypes.py:527: FutureWarning: Passing (type, 1) or '1type' as a synonym of type is deprecated; in a future version of numpy, it will be understood as (type, (1,)) / '(1,)type'.\n",
      "  _np_quint8 = np.dtype([(\"quint8\", np.uint8, 1)])\n",
      "/Users/huangshi/anaconda3/envs/qiime2-2019.7/lib/python3.6/site-packages/tensorflow/python/framework/dtypes.py:528: FutureWarning: Passing (type, 1) or '1type' as a synonym of type is deprecated; in a future version of numpy, it will be understood as (type, (1,)) / '(1,)type'.\n",
      "  _np_qint16 = np.dtype([(\"qint16\", np.int16, 1)])\n",
      "/Users/huangshi/anaconda3/envs/qiime2-2019.7/lib/python3.6/site-packages/tensorflow/python/framework/dtypes.py:529: FutureWarning: Passing (type, 1) or '1type' as a synonym of type is deprecated; in a future version of numpy, it will be understood as (type, (1,)) / '(1,)type'.\n",
      "  _np_quint16 = np.dtype([(\"quint16\", np.uint16, 1)])\n",
      "/Users/huangshi/anaconda3/envs/qiime2-2019.7/lib/python3.6/site-packages/tensorflow/python/framework/dtypes.py:530: FutureWarning: Passing (type, 1) or '1type' as a synonym of type is deprecated; in a future version of numpy, it will be understood as (type, (1,)) / '(1,)type'.\n",
      "  _np_qint32 = np.dtype([(\"qint32\", np.int32, 1)])\n",
      "/Users/huangshi/anaconda3/envs/qiime2-2019.7/lib/python3.6/site-packages/tensorflow/python/framework/dtypes.py:535: FutureWarning: Passing (type, 1) or '1type' as a synonym of type is deprecated; in a future version of numpy, it will be understood as (type, (1,)) / '(1,)type'.\n",
      "  np_resource = np.dtype([(\"resource\", np.ubyte, 1)])\n",
      "\u001b[32mSaved SampleEstimator[Regressor] to: Regressor/16S-100nt-gut_4434/regress-samples/sample_estimator.qza\u001b[0m\n",
      "\u001b[32mSaved FeatureData[Importance] to: Regressor/16S-100nt-gut_4434/regress-samples/feature_importance.qza\u001b[0m\n",
      "\u001b[32mSaved SampleData[RegressorPredictions] to: Regressor/16S-100nt-gut_4434/regress-samples/predictions.qza\u001b[0m\n",
      "\u001b[32mSaved Visualization to: Regressor/16S-100nt-gut_4434/regress-samples/model_summary.qzv\u001b[0m\n",
      "\u001b[32mSaved Visualization to: Regressor/16S-100nt-gut_4434/regress-samples/accuracy_results.qzv\u001b[0m\n"
     ]
    }
   ],
   "source": [
    "! qiime sample-classifier regress-samples \\\n",
    "  --i-table ../Input/gut_data/gut_4434.qza \\\n",
    "  --m-metadata-file ../Input/gut_data/gut_4434_map.txt \\\n",
    "  --m-metadata-column age \\\n",
    "  --p-estimator RandomForestRegressor \\\n",
    "  --p-n-estimators 500 \\\n",
    "  --p-parameter-tuning True \\\n",
    "  --p-n-jobs 8 \\\n",
    "  --p-random-state 123 \\\n",
    "  --output-dir Regressor/16S-100nt-gut_4434/regress-samples"
   ]
  },
  {
   "cell_type": "code",
   "execution_count": 48,
   "metadata": {},
   "outputs": [],
   "source": [
    "#! qiime sample-classifier fit-regressor \\\n",
    "#--i-table Input/gut_data/gut_4434.qza \\\n",
    "#--m-metadata-file Input/gut_data/gut_4434_map.txt \\\n",
    "#--p-cv 5\\\n",
    "#--m-metadata-column age \\\n",
    "#--p-n-jobs 4 \\\n",
    "#--p-parameter-tuning True \\\n",
    "#--o-sample-estimator Output/gut_4434.regressor.qza \\\n",
    "#--o-feature-importance Output/gut_4434.feature-importance.qza"
   ]
  },
  {
   "cell_type": "code",
   "execution_count": null,
   "metadata": {},
   "outputs": [],
   "source": []
  },
  {
   "cell_type": "markdown",
   "metadata": {},
   "source": [
    "### predict-regression on the new dataset"
   ]
  },
  {
   "cell_type": "code",
   "execution_count": 85,
   "metadata": {},
   "outputs": [
    {
     "name": "stdout",
     "output_type": "stream",
     "text": [
      "/Users/huangshi/anaconda3/envs/qiime2-2019.7/lib/python3.6/site-packages/tensorflow/python/framework/dtypes.py:526: FutureWarning: Passing (type, 1) or '1type' as a synonym of type is deprecated; in a future version of numpy, it will be understood as (type, (1,)) / '(1,)type'.\n",
      "  _np_qint8 = np.dtype([(\"qint8\", np.int8, 1)])\n",
      "/Users/huangshi/anaconda3/envs/qiime2-2019.7/lib/python3.6/site-packages/tensorflow/python/framework/dtypes.py:527: FutureWarning: Passing (type, 1) or '1type' as a synonym of type is deprecated; in a future version of numpy, it will be understood as (type, (1,)) / '(1,)type'.\n",
      "  _np_quint8 = np.dtype([(\"quint8\", np.uint8, 1)])\n",
      "/Users/huangshi/anaconda3/envs/qiime2-2019.7/lib/python3.6/site-packages/tensorflow/python/framework/dtypes.py:528: FutureWarning: Passing (type, 1) or '1type' as a synonym of type is deprecated; in a future version of numpy, it will be understood as (type, (1,)) / '(1,)type'.\n",
      "  _np_qint16 = np.dtype([(\"qint16\", np.int16, 1)])\n",
      "/Users/huangshi/anaconda3/envs/qiime2-2019.7/lib/python3.6/site-packages/tensorflow/python/framework/dtypes.py:529: FutureWarning: Passing (type, 1) or '1type' as a synonym of type is deprecated; in a future version of numpy, it will be understood as (type, (1,)) / '(1,)type'.\n",
      "  _np_quint16 = np.dtype([(\"quint16\", np.uint16, 1)])\n",
      "/Users/huangshi/anaconda3/envs/qiime2-2019.7/lib/python3.6/site-packages/tensorflow/python/framework/dtypes.py:530: FutureWarning: Passing (type, 1) or '1type' as a synonym of type is deprecated; in a future version of numpy, it will be understood as (type, (1,)) / '(1,)type'.\n",
      "  _np_qint32 = np.dtype([(\"qint32\", np.int32, 1)])\n",
      "/Users/huangshi/anaconda3/envs/qiime2-2019.7/lib/python3.6/site-packages/tensorflow/python/framework/dtypes.py:535: FutureWarning: Passing (type, 1) or '1type' as a synonym of type is deprecated; in a future version of numpy, it will be understood as (type, (1,)) / '(1,)type'.\n",
      "  np_resource = np.dtype([(\"resource\", np.ubyte, 1)])\n",
      "\u001b[32mSaved SampleData[RegressorPredictions] to: CIAO_dataset/16S-100nt-gut_4434-CIAO.92.regressor_prediction.qza\u001b[0m\n"
     ]
    }
   ],
   "source": [
    "! qiime sample-classifier predict-regression \\\n",
    "--i-table CIAO_dataset/100nt/feature-table.92.padding_gut_4434.qza \\\n",
    "--i-sample-estimator  Regressor/16S-100nt-gut_4434/regress-samples/sample_estimator.qza \\\n",
    "--o-predictions CIAO_dataset/16S-100nt-gut_4434-CIAO.92.regressor_prediction.qza"
   ]
  },
  {
   "cell_type": "code",
   "execution_count": 86,
   "metadata": {},
   "outputs": [
    {
     "name": "stdout",
     "output_type": "stream",
     "text": [
      "/Users/huangshi/anaconda3/envs/qiime2-2019.7/lib/python3.6/site-packages/tensorflow/python/framework/dtypes.py:526: FutureWarning: Passing (type, 1) or '1type' as a synonym of type is deprecated; in a future version of numpy, it will be understood as (type, (1,)) / '(1,)type'.\n",
      "  _np_qint8 = np.dtype([(\"qint8\", np.int8, 1)])\n",
      "/Users/huangshi/anaconda3/envs/qiime2-2019.7/lib/python3.6/site-packages/tensorflow/python/framework/dtypes.py:527: FutureWarning: Passing (type, 1) or '1type' as a synonym of type is deprecated; in a future version of numpy, it will be understood as (type, (1,)) / '(1,)type'.\n",
      "  _np_quint8 = np.dtype([(\"quint8\", np.uint8, 1)])\n",
      "/Users/huangshi/anaconda3/envs/qiime2-2019.7/lib/python3.6/site-packages/tensorflow/python/framework/dtypes.py:528: FutureWarning: Passing (type, 1) or '1type' as a synonym of type is deprecated; in a future version of numpy, it will be understood as (type, (1,)) / '(1,)type'.\n",
      "  _np_qint16 = np.dtype([(\"qint16\", np.int16, 1)])\n",
      "/Users/huangshi/anaconda3/envs/qiime2-2019.7/lib/python3.6/site-packages/tensorflow/python/framework/dtypes.py:529: FutureWarning: Passing (type, 1) or '1type' as a synonym of type is deprecated; in a future version of numpy, it will be understood as (type, (1,)) / '(1,)type'.\n",
      "  _np_quint16 = np.dtype([(\"quint16\", np.uint16, 1)])\n",
      "/Users/huangshi/anaconda3/envs/qiime2-2019.7/lib/python3.6/site-packages/tensorflow/python/framework/dtypes.py:530: FutureWarning: Passing (type, 1) or '1type' as a synonym of type is deprecated; in a future version of numpy, it will be understood as (type, (1,)) / '(1,)type'.\n",
      "  _np_qint32 = np.dtype([(\"qint32\", np.int32, 1)])\n",
      "/Users/huangshi/anaconda3/envs/qiime2-2019.7/lib/python3.6/site-packages/tensorflow/python/framework/dtypes.py:535: FutureWarning: Passing (type, 1) or '1type' as a synonym of type is deprecated; in a future version of numpy, it will be understood as (type, (1,)) / '(1,)type'.\n",
      "  np_resource = np.dtype([(\"resource\", np.ubyte, 1)])\n",
      "\u001b[32mSaved Visualization to: CIAO_dataset/16S-100nt-gut_4434-CIAO.92.regressor_prediction.qza.qzv\u001b[0m\n"
     ]
    }
   ],
   "source": [
    "! qiime metadata tabulate \\\n",
    "--m-input-file CIAO_dataset/16S-100nt-gut_4434-CIAO.92.regressor_prediction.qza\\\n",
    "--o-visualization CIAO_dataset/16S-100nt-gut_4434-CIAO.92.regressor_prediction.qzv"
   ]
  },
  {
   "cell_type": "code",
   "execution_count": 92,
   "metadata": {},
   "outputs": [
    {
     "name": "stdout",
     "output_type": "stream",
     "text": [
      "/Users/huangshi/anaconda3/envs/qiime2-2019.7/lib/python3.6/site-packages/tensorflow/python/framework/dtypes.py:526: FutureWarning: Passing (type, 1) or '1type' as a synonym of type is deprecated; in a future version of numpy, it will be understood as (type, (1,)) / '(1,)type'.\n",
      "  _np_qint8 = np.dtype([(\"qint8\", np.int8, 1)])\n",
      "/Users/huangshi/anaconda3/envs/qiime2-2019.7/lib/python3.6/site-packages/tensorflow/python/framework/dtypes.py:527: FutureWarning: Passing (type, 1) or '1type' as a synonym of type is deprecated; in a future version of numpy, it will be understood as (type, (1,)) / '(1,)type'.\n",
      "  _np_quint8 = np.dtype([(\"quint8\", np.uint8, 1)])\n",
      "/Users/huangshi/anaconda3/envs/qiime2-2019.7/lib/python3.6/site-packages/tensorflow/python/framework/dtypes.py:528: FutureWarning: Passing (type, 1) or '1type' as a synonym of type is deprecated; in a future version of numpy, it will be understood as (type, (1,)) / '(1,)type'.\n",
      "  _np_qint16 = np.dtype([(\"qint16\", np.int16, 1)])\n",
      "/Users/huangshi/anaconda3/envs/qiime2-2019.7/lib/python3.6/site-packages/tensorflow/python/framework/dtypes.py:529: FutureWarning: Passing (type, 1) or '1type' as a synonym of type is deprecated; in a future version of numpy, it will be understood as (type, (1,)) / '(1,)type'.\n",
      "  _np_quint16 = np.dtype([(\"quint16\", np.uint16, 1)])\n",
      "/Users/huangshi/anaconda3/envs/qiime2-2019.7/lib/python3.6/site-packages/tensorflow/python/framework/dtypes.py:530: FutureWarning: Passing (type, 1) or '1type' as a synonym of type is deprecated; in a future version of numpy, it will be understood as (type, (1,)) / '(1,)type'.\n",
      "  _np_qint32 = np.dtype([(\"qint32\", np.int32, 1)])\n",
      "/Users/huangshi/anaconda3/envs/qiime2-2019.7/lib/python3.6/site-packages/tensorflow/python/framework/dtypes.py:535: FutureWarning: Passing (type, 1) or '1type' as a synonym of type is deprecated; in a future version of numpy, it will be understood as (type, (1,)) / '(1,)type'.\n",
      "  np_resource = np.dtype([(\"resource\", np.ubyte, 1)])\n",
      "\u001b[32mSaved Visualization to: CIAO_dataset/16S-100nt-gut_4434-CIAO.92.regressor_prediction.scatter.qzv\u001b[0m\n"
     ]
    }
   ],
   "source": [
    "!qiime sample-classifier scatterplot \\\n",
    "  --i-predictions CIAO_dataset/16S-100nt-gut_4434-CIAO.92.regressor_prediction.qza \\\n",
    "  --m-truth-file CIAO_dataset/metadata_92.tsv \\\n",
    "  --m-truth-column agevisit \\\n",
    "  --o-visualization CIAO_dataset/16S-100nt-gut_4434-CIAO.92.regressor_prediction.scatter.qzv"
   ]
  },
  {
   "cell_type": "code",
   "execution_count": null,
   "metadata": {},
   "outputs": [],
   "source": []
  }
 ],
 "metadata": {
  "kernelspec": {
   "display_name": "Python [conda env:qiime2-2019.7]",
   "language": "python",
   "name": "conda-env-qiime2-2019.7-py"
  },
  "language_info": {
   "codemirror_mode": {
    "name": "ipython",
    "version": 3
   },
   "file_extension": ".py",
   "mimetype": "text/x-python",
   "name": "python",
   "nbconvert_exporter": "python",
   "pygments_lexer": "ipython3",
   "version": "3.6.7"
  }
 },
 "nbformat": 4,
 "nbformat_minor": 4
}
